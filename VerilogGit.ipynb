{
  "nbformat": 4,
  "nbformat_minor": 0,
  "metadata": {
    "colab": {
      "provenance": [],
      "toc_visible": true,
      "authorship_tag": "ABX9TyMslAIU+qaAIvfQmWUMJGUO",
      "include_colab_link": true
    },
    "kernelspec": {
      "name": "python3",
      "display_name": "Python 3"
    },
    "language_info": {
      "name": "python"
    }
  },
  "cells": [
    {
      "cell_type": "markdown",
      "metadata": {
        "id": "view-in-github",
        "colab_type": "text"
      },
      "source": [
        "<a href=\"https://colab.research.google.com/github/pe8sutd/DSL25/blob/main/VerilogGit.ipynb\" target=\"_parent\"><img src=\"https://colab.research.google.com/assets/colab-badge.svg\" alt=\"Open In Colab\"/></a>"
      ]
    },
    {
      "cell_type": "markdown",
      "source": [
        "## Setup"
      ],
      "metadata": {
        "id": "-SOAGkbBjEll"
      }
    },
    {
      "cell_type": "code",
      "source": [
        "!pip install git+https://github.com/pe8sutd/eda4u &> /dev/null\n",
        "!git clone https://github.com/pe8sutd/eda4u &> /dev/null\n",
        "%load_ext plugin"
      ],
      "metadata": {
        "id": "3i_YuG_6jDoN"
      },
      "execution_count": 4,
      "outputs": []
    },
    {
      "cell_type": "markdown",
      "source": [],
      "metadata": {
        "id": "ZF4RKd6oWeeR"
      }
    },
    {
      "cell_type": "markdown",
      "source": [
        "## Cover"
      ],
      "metadata": {
        "id": "mRa8NjmDjT78"
      }
    },
    {
      "cell_type": "markdown",
      "source": [
        "![](https://github.com/pe8sutd/DSL2025/blob/main/VerilogColab1/Slide1.PNG?raw=1)"
      ],
      "metadata": {
        "id": "4H7cbD3paJLr"
      }
    },
    {
      "cell_type": "markdown",
      "source": [
        "![](https://github.com/pe8sutd/DSL2025/blob/main/VerilogColab1/Slide2.PNG?raw=1)"
      ],
      "metadata": {
        "id": "dhO_sRn3g_VE"
      }
    },
    {
      "cell_type": "markdown",
      "source": [
        "![](https://github.com/pe8sutd/DSL2025/blob/main/VerilogColab1/Slide3.PNG?raw=1)"
      ],
      "metadata": {
        "id": "WMZHJYtFhCrg"
      }
    },
    {
      "cell_type": "markdown",
      "source": [
        "## Introduction"
      ],
      "metadata": {
        "id": "Hvjtqk8Tk5RF"
      }
    },
    {
      "cell_type": "markdown",
      "source": [
        "![](https://github.com/pe8sutd/DSL2025/blob/main/VerilogColab1/Slide4.PNG?raw=1)"
      ],
      "metadata": {
        "id": "w_kjnXlyhCpO"
      }
    },
    {
      "cell_type": "markdown",
      "source": [
        "![](https://github.com/pe8sutd/DSL2025/blob/main/VerilogColab1/Slide5.PNG?raw=1)"
      ],
      "metadata": {
        "id": "FZhhY0nVhCm6"
      }
    },
    {
      "cell_type": "markdown",
      "source": [
        "![](https://github.com/pe8sutd/DSL2025/blob/main/VerilogColab1/Slide6.PNG?raw=1)"
      ],
      "metadata": {
        "id": "gwg0zPq5hCkj"
      }
    },
    {
      "cell_type": "markdown",
      "source": [
        "![](https://github.com/pe8sutd/DSL2025/blob/main/VerilogColab1/Slide6.PNG?raw=1)"
      ],
      "metadata": {
        "id": "syqzXvfvhCiM"
      }
    },
    {
      "cell_type": "markdown",
      "source": [
        "## Typical Design Flow"
      ],
      "metadata": {
        "id": "0rLiTy-KlA-8"
      }
    },
    {
      "cell_type": "markdown",
      "source": [
        "![](https://github.com/pe8sutd/DSL2025/blob/main/VerilogColab1/Slide7.PNG?raw=1)"
      ],
      "metadata": {
        "id": "WthUXRDfhCfq"
      }
    },
    {
      "cell_type": "markdown",
      "source": [
        "![](https://github.com/pe8sutd/DSL2025/blob/main/VerilogColab1/Slide8.PNG?raw=1)"
      ],
      "metadata": {
        "id": "OBuTZS84hCdj"
      }
    },
    {
      "cell_type": "markdown",
      "source": [
        "![](https://github.com/pe8sutd/DSL2025/blob/main/VerilogColab1/Slide9.PNG?raw=1)"
      ],
      "metadata": {
        "id": "afrKCZ2ChCbT"
      }
    },
    {
      "cell_type": "markdown",
      "source": [
        "![](https://github.com/pe8sutd/DSL2025/blob/main/VerilogColab1/Slide10.PNG?raw=1)"
      ],
      "metadata": {
        "id": "slQRXz7yhCZD"
      }
    },
    {
      "cell_type": "markdown",
      "source": [],
      "metadata": {
        "id": "lt17VxhzlNON"
      }
    },
    {
      "cell_type": "markdown",
      "source": [
        "![](https://github.com/pe8sutd/DSL2025/blob/main/VerilogColab1/Slide11.PNG?raw=1)"
      ],
      "metadata": {
        "id": "WYZww7aqhCWy"
      }
    },
    {
      "cell_type": "markdown",
      "source": [
        "![](https://github.com/pe8sutd/DSL2025/blob/main/VerilogColab1/Slide12.PNG?raw=1)"
      ],
      "metadata": {
        "id": "nh_OLg8ehCUj"
      }
    },
    {
      "cell_type": "markdown",
      "source": [
        "![](https://github.com/pe8sutd/DSL2025/blob/main/VerilogColab1/Slide13.PNG?raw=1)"
      ],
      "metadata": {
        "id": "XY4UEbyVhCSD"
      }
    },
    {
      "cell_type": "markdown",
      "source": [
        "![](https://github.com/pe8sutd/DSL2025/blob/main/VerilogColab1/Slide14.PNG?raw=1)\n"
      ],
      "metadata": {
        "id": "OrP0KK8vhCNr"
      }
    },
    {
      "cell_type": "markdown",
      "source": [
        "## Concept\n"
      ],
      "metadata": {
        "id": "t2y6wwWCjadc"
      }
    },
    {
      "cell_type": "markdown",
      "source": [
        "1. Using %%print_verilog to view the circuit diagram of the above module.\n",
        "2. In Structure Description, \"wire\" for outand is missing. Find a way to add \"wire\" declaration.\n",
        "3. Identify the difference between the Structure and Behavioural designs."
      ],
      "metadata": {
        "id": "iqV0VGFyWhwL"
      }
    },
    {
      "cell_type": "code",
      "source": [
        "%%print_verilog\n",
        "\n",
        "//Structure Description\n",
        "module logicf (OUT,A,B,C);\n",
        "  input A,B,C;\n",
        "  output OUT;\n",
        "  wire outand;\n",
        "\n",
        "  and g1 (outand,A,B);\n",
        "  or g2 (OUT,outand,C);\n",
        "\n",
        "endmodule\n"
      ],
      "metadata": {
        "collapsed": true,
        "id": "hKaftZYBju80",
        "outputId": "06f4ee03-c50c-42e8-c295-eecd2757dbd0",
        "colab": {
          "base_uri": "https://localhost:8080/"
        }
      },
      "execution_count": null,
      "outputs": [
        {
          "output_type": "display_data",
          "data": {
            "text/plain": [
              "<IPython.core.display.SVG object>"
            ],
            "image/svg+xml": "<svg xmlns=\"http://www.w3.org/2000/svg\" xmlns:xlink=\"http://www.w3.org/1999/xlink\" xmlns:s=\"https://github.com/nturley/netlistsvg\" width=\"249\" height=\"129\"><style>svg {\n  stroke:#000;\n  fill:none;\n}\ntext {\n  fill:#000;\n  stroke:none;\n  font-size:10px;\n  font-weight: bold;\n  font-family: &quot;Courier New&quot;, monospace;\n}\nline {\n    stroke-linecap: round;\n}\n.nodelabel {\n  text-anchor: middle;\n}\n.inputPortLabel {\n  text-anchor: end;\n}\n.splitjoinBody {\n  fill:#000;\n}</style><g s:type=\"and\" transform=\"translate(77,27)\" s:width=\"30\" s:height=\"25\" id=\"cell_$and$/content/code.v:7$1\"><s:alias val=\"$and\"/><s:alias val=\"$logic_and\"/><s:alias val=\"$_AND_\"/><s:alias val=\"$reduce_and\"/><path d=\"M0,0 L0,25 L15,25 A15 12.5 0 0 0 15,0 Z\" class=\"cell_$and$/content/code.v:7$1\"/><g s:x=\"0\" s:y=\"5\" s:pid=\"A\"/><g s:x=\"0\" s:y=\"20\" s:pid=\"B\"/><g s:x=\"30\" s:y=\"12.5\" s:pid=\"Y\"/></g><g s:type=\"or\" transform=\"translate(142,34.5)\" s:width=\"30\" s:height=\"25\" id=\"cell_$or$/content/code.v:8$2\"><s:alias val=\"$or\"/><s:alias val=\"$logic_or\"/><s:alias val=\"$_OR_\"/><s:alias val=\"$reduce_or\"/><s:alias val=\"$reduce_bool\"/><path d=\"M0,0 A30 25 0 0 1 0,25 A30 25 0 0 0 30,12.5 A30 25 0 0 0 0,0\" class=\"cell_$or$/content/code.v:8$2\"/><g s:x=\"2\" s:y=\"5\" s:pid=\"A\"/><g s:x=\"2\" s:y=\"20\" s:pid=\"B\"/><g s:x=\"30\" s:y=\"12.5\" s:pid=\"Y\"/></g><g s:type=\"outputExt\" transform=\"translate(207,37)\" s:width=\"30\" s:height=\"20\" id=\"cell_OUT\"><text x=\"15\" y=\"-4\" class=\"nodelabel cell_OUT\" s:attribute=\"ref\">OUT</text><s:alias val=\"$_outputExt_\"/><path d=\"M30,0 L30,20 L15,20 L0,10 L15,0 Z\" class=\"cell_OUT\"/><g s:x=\"0\" s:y=\"10\" s:pid=\"A\"/></g><g s:type=\"inputExt\" transform=\"translate(12,22)\" s:width=\"30\" s:height=\"20\" id=\"cell_A\"><text x=\"15\" y=\"-4\" class=\"nodelabel cell_A\" s:attribute=\"ref\">A</text><s:alias val=\"$_inputExt_\"/><path d=\"M0,0 L0,20 L15,20 L30,10 L15,0 Z\" class=\"cell_A\"/><g s:x=\"30\" s:y=\"10\" s:pid=\"Y\"/></g><g s:type=\"inputExt\" transform=\"translate(12,87)\" s:width=\"30\" s:height=\"20\" id=\"cell_B\"><text x=\"15\" y=\"-4\" class=\"nodelabel cell_B\" s:attribute=\"ref\">B</text><s:alias val=\"$_inputExt_\"/><path d=\"M0,0 L0,20 L15,20 L30,10 L15,0 Z\" class=\"cell_B\"/><g s:x=\"30\" s:y=\"10\" s:pid=\"Y\"/></g><g s:type=\"inputExt\" transform=\"translate(77,97)\" s:width=\"30\" s:height=\"20\" id=\"cell_C\"><text x=\"15\" y=\"-4\" class=\"nodelabel cell_C\" s:attribute=\"ref\">C</text><s:alias val=\"$_inputExt_\"/><path d=\"M0,0 L0,20 L15,20 L30,10 L15,0 Z\" class=\"cell_C\"/><g s:x=\"30\" s:y=\"10\" s:pid=\"Y\"/></g><line x1=\"42\" x2=\"77\" y1=\"32\" y2=\"32\" class=\"net_3 width_1\" style=\"stroke-width: 1\"/><line x1=\"42\" x2=\"52\" y1=\"97\" y2=\"97\" class=\"net_4 width_1\" style=\"stroke-width: 1\"/><line x1=\"52\" x2=\"52\" y1=\"97\" y2=\"47\" class=\"net_4 width_1\" style=\"stroke-width: 1\"/><line x1=\"52\" x2=\"77\" y1=\"47\" y2=\"47\" class=\"net_4 width_1\" style=\"stroke-width: 1\"/><line x1=\"107\" x2=\"144\" y1=\"39.5\" y2=\"39.5\" class=\"net_6 width_1\" style=\"stroke-width: 1\"/><line x1=\"107\" x2=\"117\" y1=\"107\" y2=\"107\" class=\"net_5 width_1\" style=\"stroke-width: 1\"/><line x1=\"117\" x2=\"117\" y1=\"107\" y2=\"54.5\" class=\"net_5 width_1\" style=\"stroke-width: 1\"/><line x1=\"117\" x2=\"144\" y1=\"54.5\" y2=\"54.5\" class=\"net_5 width_1\" style=\"stroke-width: 1\"/><line x1=\"172\" x2=\"207\" y1=\"47\" y2=\"47\" class=\"net_2 width_1\" style=\"stroke-width: 1\"/></svg>"
          },
          "metadata": {}
        }
      ]
    },
    {
      "cell_type": "code",
      "source": [
        "%%print_verilog\n",
        "\n",
        "//Behavioural Description\n",
        "module logicf (OUT,A,B,C);\n",
        "  input A,B,C;\n",
        "  output OUT;\n",
        "  reg OUT;\n",
        "\n",
        "  always @ (A or B or C)\n",
        "      OUT = A & B | C;\n",
        "\n",
        "endmodule\n"
      ],
      "metadata": {
        "collapsed": true,
        "id": "nHFU5c12mCM9",
        "outputId": "12432584-5d0a-4f96-e446-70ad8c4bd9af",
        "colab": {
          "base_uri": "https://localhost:8080/"
        }
      },
      "execution_count": null,
      "outputs": [
        {
          "output_type": "display_data",
          "data": {
            "text/plain": [
              "<IPython.core.display.SVG object>"
            ],
            "image/svg+xml": "<svg xmlns=\"http://www.w3.org/2000/svg\" xmlns:xlink=\"http://www.w3.org/1999/xlink\" xmlns:s=\"https://github.com/nturley/netlistsvg\" width=\"249\" height=\"129\"><style>svg {\n  stroke:#000;\n  fill:none;\n}\ntext {\n  fill:#000;\n  stroke:none;\n  font-size:10px;\n  font-weight: bold;\n  font-family: &quot;Courier New&quot;, monospace;\n}\nline {\n    stroke-linecap: round;\n}\n.nodelabel {\n  text-anchor: middle;\n}\n.inputPortLabel {\n  text-anchor: end;\n}\n.splitjoinBody {\n  fill:#000;\n}</style><g s:type=\"and\" transform=\"translate(77,27)\" s:width=\"30\" s:height=\"25\" id=\"cell_$and$/content/code.v:9$2\"><s:alias val=\"$and\"/><s:alias val=\"$logic_and\"/><s:alias val=\"$_AND_\"/><s:alias val=\"$reduce_and\"/><path d=\"M0,0 L0,25 L15,25 A15 12.5 0 0 0 15,0 Z\" class=\"cell_$and$/content/code.v:9$2\"/><g s:x=\"0\" s:y=\"5\" s:pid=\"A\"/><g s:x=\"0\" s:y=\"20\" s:pid=\"B\"/><g s:x=\"30\" s:y=\"12.5\" s:pid=\"Y\"/></g><g s:type=\"or\" transform=\"translate(142,34.5)\" s:width=\"30\" s:height=\"25\" id=\"cell_$or$/content/code.v:9$3\"><s:alias val=\"$or\"/><s:alias val=\"$logic_or\"/><s:alias val=\"$_OR_\"/><s:alias val=\"$reduce_or\"/><s:alias val=\"$reduce_bool\"/><path d=\"M0,0 A30 25 0 0 1 0,25 A30 25 0 0 0 30,12.5 A30 25 0 0 0 0,0\" class=\"cell_$or$/content/code.v:9$3\"/><g s:x=\"2\" s:y=\"5\" s:pid=\"A\"/><g s:x=\"2\" s:y=\"20\" s:pid=\"B\"/><g s:x=\"30\" s:y=\"12.5\" s:pid=\"Y\"/></g><g s:type=\"outputExt\" transform=\"translate(207,37)\" s:width=\"30\" s:height=\"20\" id=\"cell_OUT\"><text x=\"15\" y=\"-4\" class=\"nodelabel cell_OUT\" s:attribute=\"ref\">OUT</text><s:alias val=\"$_outputExt_\"/><path d=\"M30,0 L30,20 L15,20 L0,10 L15,0 Z\" class=\"cell_OUT\"/><g s:x=\"0\" s:y=\"10\" s:pid=\"A\"/></g><g s:type=\"inputExt\" transform=\"translate(12,22)\" s:width=\"30\" s:height=\"20\" id=\"cell_A\"><text x=\"15\" y=\"-4\" class=\"nodelabel cell_A\" s:attribute=\"ref\">A</text><s:alias val=\"$_inputExt_\"/><path d=\"M0,0 L0,20 L15,20 L30,10 L15,0 Z\" class=\"cell_A\"/><g s:x=\"30\" s:y=\"10\" s:pid=\"Y\"/></g><g s:type=\"inputExt\" transform=\"translate(12,87)\" s:width=\"30\" s:height=\"20\" id=\"cell_B\"><text x=\"15\" y=\"-4\" class=\"nodelabel cell_B\" s:attribute=\"ref\">B</text><s:alias val=\"$_inputExt_\"/><path d=\"M0,0 L0,20 L15,20 L30,10 L15,0 Z\" class=\"cell_B\"/><g s:x=\"30\" s:y=\"10\" s:pid=\"Y\"/></g><g s:type=\"inputExt\" transform=\"translate(77,97)\" s:width=\"30\" s:height=\"20\" id=\"cell_C\"><text x=\"15\" y=\"-4\" class=\"nodelabel cell_C\" s:attribute=\"ref\">C</text><s:alias val=\"$_inputExt_\"/><path d=\"M0,0 L0,20 L15,20 L30,10 L15,0 Z\" class=\"cell_C\"/><g s:x=\"30\" s:y=\"10\" s:pid=\"Y\"/></g><line x1=\"42\" x2=\"77\" y1=\"32\" y2=\"32\" class=\"net_3 width_1\" style=\"stroke-width: 1\"/><line x1=\"42\" x2=\"52\" y1=\"97\" y2=\"97\" class=\"net_4 width_1\" style=\"stroke-width: 1\"/><line x1=\"52\" x2=\"52\" y1=\"97\" y2=\"47\" class=\"net_4 width_1\" style=\"stroke-width: 1\"/><line x1=\"52\" x2=\"77\" y1=\"47\" y2=\"47\" class=\"net_4 width_1\" style=\"stroke-width: 1\"/><line x1=\"107\" x2=\"144\" y1=\"39.5\" y2=\"39.5\" class=\"net_6 width_1\" style=\"stroke-width: 1\"/><line x1=\"107\" x2=\"117\" y1=\"107\" y2=\"107\" class=\"net_5 width_1\" style=\"stroke-width: 1\"/><line x1=\"117\" x2=\"117\" y1=\"107\" y2=\"54.5\" class=\"net_5 width_1\" style=\"stroke-width: 1\"/><line x1=\"117\" x2=\"144\" y1=\"54.5\" y2=\"54.5\" class=\"net_5 width_1\" style=\"stroke-width: 1\"/><line x1=\"172\" x2=\"207\" y1=\"47\" y2=\"47\" class=\"net_2 width_1\" style=\"stroke-width: 1\"/></svg>"
          },
          "metadata": {}
        }
      ]
    },
    {
      "cell_type": "markdown",
      "source": [
        "## Verilog Convention"
      ],
      "metadata": {
        "id": "RmNaDVvZlswU"
      }
    },
    {
      "cell_type": "markdown",
      "source": [
        "![](https://github.com/pe8sutd/DSL2025/blob/main/VerilogColab1/Slide15.PNG?raw=1)\n"
      ],
      "metadata": {
        "id": "S4komjpIhCLL"
      }
    },
    {
      "cell_type": "markdown",
      "source": [
        "![](https://github.com/pe8sutd/DSL2025/blob/main/VerilogColab1/Slide16.PNG?raw=1)\n"
      ],
      "metadata": {
        "id": "PZ9Kw5aShCJC"
      }
    },
    {
      "cell_type": "markdown",
      "source": [
        "![](https://github.com/pe8sutd/DSL2025/blob/main/VerilogColab1/Slide17.PNG?raw=1)"
      ],
      "metadata": {
        "id": "5Y_4Lb0rhCGi"
      }
    },
    {
      "cell_type": "markdown",
      "source": [
        "![](https://github.com/pe8sutd/DSL2025/blob/main/VerilogColab1/Slide18.PNG?raw=1)"
      ],
      "metadata": {
        "id": "8NCMaS7yhCES"
      }
    },
    {
      "cell_type": "markdown",
      "source": [
        "![](https://github.com/pe8sutd/DSL2025/blob/main/VerilogColab1/Slide19.PNG?raw=1)"
      ],
      "metadata": {
        "id": "K6IIYQVJhCB7"
      }
    },
    {
      "cell_type": "code",
      "source": [
        "print('Quotient', 422 // 16) # Floor division (//) for quotient\n",
        "print('Remainder',422 % 16)  # Modulo operator (%) for remainder"
      ],
      "metadata": {
        "id": "zGtLaMNToDtu",
        "outputId": "ce02c945-4870-4891-e838-48c625518882",
        "colab": {
          "base_uri": "https://localhost:8080/"
        }
      },
      "execution_count": null,
      "outputs": [
        {
          "output_type": "stream",
          "name": "stdout",
          "text": [
            "Quotient 26\n",
            "Remainder 6\n"
          ]
        }
      ]
    },
    {
      "cell_type": "markdown",
      "source": [
        "## Operation\n"
      ],
      "metadata": {
        "id": "xqehT8xZpZ_O"
      }
    },
    {
      "cell_type": "markdown",
      "source": [
        "1. Prompt to Gemini \"python code to do division, results Quotient, and Remainder\".\n",
        "2. Run a new code cell for the generated code."
      ],
      "metadata": {
        "id": "F4FH-CYxWp-b"
      }
    },
    {
      "cell_type": "code",
      "source": [
        "def get_quotient_remainder(dividend, divisor):\n",
        "  \"\"\"\n",
        "  Calculates the quotient and remainder of a division.\n",
        "\n",
        "  Args:\n",
        "    dividend: The number being divided.\n",
        "    divisor: The number dividing the dividend.\n",
        "\n",
        "  Returns:\n",
        "    A tuple containing the quotient and remainder.\n",
        "  \"\"\"\n",
        "  quotient = dividend // divisor  # Floor division (//) for quotient\n",
        "  remainder = dividend % divisor  # Modulo operator (%) for remainder\n",
        "  return quotient, remainder\n",
        "\n",
        "# Example usage\n",
        "dividend = 422\n",
        "divisor = 16\n",
        "\n",
        "quotient, remainder = get_quotient_remainder(dividend, divisor)\n",
        "\n",
        "print(\"Quotient:\", quotient)\n",
        "print(\"Remainder:\", remainder)"
      ],
      "metadata": {
        "id": "rnhcCt3ZpMLv",
        "outputId": "6c5b5f4c-f84c-4de1-a739-1b618ae9ebc0",
        "colab": {
          "base_uri": "https://localhost:8080/"
        }
      },
      "execution_count": null,
      "outputs": [
        {
          "output_type": "stream",
          "name": "stdout",
          "text": [
            "Quotient: 26\n",
            "Remainder: 6\n"
          ]
        }
      ]
    },
    {
      "cell_type": "markdown",
      "source": [
        "3. Prompt to Gemini \"continue divide the number till the Quotient is zero, print all the intermediate Quotient and Remainder\"."
      ],
      "metadata": {
        "id": "Bw0O1RQwq8wb"
      }
    },
    {
      "cell_type": "code",
      "source": [
        "def divide_until_zero(dividend, divisor):\n",
        "  \"\"\"\n",
        "  Divides the dividend by the divisor repeatedly until the quotient is zero,\n",
        "  printing intermediate quotients and remainders.\n",
        "\n",
        "  Args:\n",
        "    dividend: The initial number to divide.\n",
        "    divisor: The number to divide by.\n",
        "  \"\"\"\n",
        "  quotient = dividend\n",
        "  while quotient != 0:\n",
        "    remainder = quotient % divisor\n",
        "    quotient //= divisor\n",
        "    print(\"Quotient:\", quotient, \"Remainder:\", remainder)\n",
        "\n",
        "# Example usage\n",
        "dividend = 422\n",
        "divisor = 16\n",
        "\n",
        "divide_until_zero(dividend, divisor)"
      ],
      "metadata": {
        "id": "R3biWhmRp05m",
        "outputId": "174e897f-f419-43cf-a609-5b47f3c6c2ba",
        "colab": {
          "base_uri": "https://localhost:8080/"
        }
      },
      "execution_count": null,
      "outputs": [
        {
          "output_type": "stream",
          "name": "stdout",
          "text": [
            "Quotient: 26 Remainder: 6\n",
            "Quotient: 1 Remainder: 10\n",
            "Quotient: 0 Remainder: 1\n"
          ]
        }
      ]
    },
    {
      "cell_type": "markdown",
      "source": [
        "![](https://github.com/pe8sutd/DSL2025/blob/main/VerilogColab1/Slide20.PNG?raw=1)"
      ],
      "metadata": {
        "id": "DY8onoWHhB_j"
      }
    },
    {
      "cell_type": "markdown",
      "source": [
        "![](https://github.com/pe8sutd/DSL2025/blob/main/VerilogColab1/Slide21.PNG?raw=1)"
      ],
      "metadata": {
        "id": "smHoamgshB9L"
      }
    },
    {
      "cell_type": "markdown",
      "source": [
        "![](https://github.com/pe8sutd/DSL2025/blob/main/VerilogColab1/Slide22.PNG?raw=1)"
      ],
      "metadata": {
        "id": "a3Gu7WtehB67"
      }
    },
    {
      "cell_type": "markdown",
      "source": [
        "![](https://github.com/pe8sutd/DSL2025/blob/main/VerilogColab1/Slide23.PNG?raw=1)"
      ],
      "metadata": {
        "id": "KFoT7YS-hB4b"
      }
    },
    {
      "cell_type": "markdown",
      "source": [
        "![](https://github.com/pe8sutd/DSL2025/blob/main/VerilogColab1/Slide24.PNG?raw=1)"
      ],
      "metadata": {
        "id": "Q9-9IJZzhB1z"
      }
    },
    {
      "cell_type": "markdown",
      "source": [
        "![](https://github.com/pe8sutd/DSL2025/blob/main/VerilogColab1/Slide25.PNG?raw=1)"
      ],
      "metadata": {
        "id": "46EOervLhBzT"
      }
    },
    {
      "cell_type": "markdown",
      "source": [
        "## Structural Description - Examples"
      ],
      "metadata": {
        "id": "hoesIsP8j1ul"
      }
    },
    {
      "cell_type": "markdown",
      "source": [
        "![](https://github.com/pe8sutd/DSL2025/blob/main/VerilogColab1/Slide26.PNG?raw=1)"
      ],
      "metadata": {
        "id": "jRvwDnORhBwb"
      }
    },
    {
      "cell_type": "markdown",
      "source": [
        "![](https://github.com/pe8sutd/DSL2025/blob/main/VerilogColab1/Slide27.PNG?raw=1)"
      ],
      "metadata": {
        "id": "lg35xbh3hBoc"
      }
    },
    {
      "cell_type": "markdown",
      "source": [
        "![](https://github.com/pe8sutd/DSL2025/blob/main/VerilogColab1/Slide28.PNG?raw=1)"
      ],
      "metadata": {
        "id": "Fe6yWPbzhBjb"
      }
    },
    {
      "cell_type": "markdown",
      "source": [
        "![](https://github.com/pe8sutd/DSL2025/blob/main/VerilogColab1/Slide29.PNG?raw=1)"
      ],
      "metadata": {
        "id": "1du0VxvPhBej"
      }
    },
    {
      "cell_type": "markdown",
      "source": [
        "![](https://github.com/pe8sutd/DSL2025/blob/main/VerilogColab1/Slide30.PNG?raw=1)"
      ],
      "metadata": {
        "id": "Hv0kbwSAnsX-"
      }
    },
    {
      "cell_type": "markdown",
      "source": [
        "![](https://github.com/pe8sutd/DSL2025/blob/main/VerilogColab1/Slide31.PNG?raw=1)"
      ],
      "metadata": {
        "id": "musWBiEFnsVw"
      }
    },
    {
      "cell_type": "markdown",
      "source": [
        "![](https://github.com/pe8sutd/DSL2025/blob/main/VerilogColab1/Slide32.PNG?raw=1)"
      ],
      "metadata": {
        "id": "Dmx7lycinsTV"
      }
    },
    {
      "cell_type": "markdown",
      "source": [
        "![](https://github.com/pe8sutd/DSL2025/blob/main/VerilogColab1/Slide33.PNG?raw=1)"
      ],
      "metadata": {
        "id": "t3IY6lHcnsQl"
      }
    },
    {
      "cell_type": "markdown",
      "source": [
        "![](https://github.com/pe8sutd/DSL2025/blob/main/VerilogColab1/Slide34.PNG?raw=1)"
      ],
      "metadata": {
        "id": "E0kdIIqknsOF"
      }
    },
    {
      "cell_type": "markdown",
      "source": [
        "![](https://github.com/pe8sutd/DSL2025/blob/main/VerilogColab1/Slide35.PNG?raw=1)"
      ],
      "metadata": {
        "id": "VDEg72shnsLc"
      }
    },
    {
      "cell_type": "markdown",
      "source": [
        "![](https://github.com/pe8sutd/DSL2025/blob/main/VerilogColab1/Slide36.PNG?raw=1)"
      ],
      "metadata": {
        "id": "G7LYb--5nsGw"
      }
    },
    {
      "cell_type": "markdown",
      "source": [
        "![](https://github.com/pe8sutd/DSL2025/blob/main/VerilogColab1/Slide37.PNG?raw=1)"
      ],
      "metadata": {
        "id": "Wzdsz4vensE1"
      }
    },
    {
      "cell_type": "markdown",
      "source": [
        "![](https://github.com/pe8sutd/DSL2025/blob/main/VerilogColab1/Slide38.PNG?raw=1)"
      ],
      "metadata": {
        "id": "3rsZKp-znsCB"
      }
    },
    {
      "cell_type": "markdown",
      "source": [
        "![](https://github.com/pe8sutd/DSL2025/blob/main/VerilogColab1/Slide39.PNG?raw=1)"
      ],
      "metadata": {
        "id": "yFhI3kfUnr_W"
      }
    },
    {
      "cell_type": "markdown",
      "source": [
        "![](https://github.com/pe8sutd/DSL2025/blob/main/VerilogColab1/Slide40.PNG?raw=1)"
      ],
      "metadata": {
        "id": "pavC2qgPnr9E"
      }
    },
    {
      "cell_type": "markdown",
      "source": [
        "![](https://github.com/pe8sutd/DSL2025/blob/main/VerilogColab1/Slide41.PNG?raw=1)"
      ],
      "metadata": {
        "id": "i38W4tz4nr6g"
      }
    },
    {
      "cell_type": "markdown",
      "source": [
        "![](https://github.com/pe8sutd/DSL2025/blob/main/VerilogColab1/Slide42.PNG?raw=1)"
      ],
      "metadata": {
        "id": "9fYFvzxwnr4P"
      }
    },
    {
      "cell_type": "markdown",
      "source": [
        "![](https://github.com/pe8sutd/DSL2025/blob/main/VerilogColab1/Slide43.PNG?raw=1)"
      ],
      "metadata": {
        "id": "hiIEfqbDnr1l"
      }
    },
    {
      "cell_type": "markdown",
      "source": [
        "![](https://github.com/pe8sutd/DSL2025/blob/main/VerilogColab1/Slide44.PNG?raw=1)"
      ],
      "metadata": {
        "id": "3NNSuMMHnrS0"
      }
    },
    {
      "cell_type": "markdown",
      "source": [
        "![](https://github.com/pe8sutd/DSL2025/blob/main/VerilogColab1/Slide45.PNG?raw=1)"
      ],
      "metadata": {
        "id": "8lXdJvvAsU5u"
      }
    },
    {
      "cell_type": "markdown",
      "source": [
        "![](https://github.com/pe8sutd/DSL2025/blob/main/VerilogColab1/Slide46.PNG?raw=1)"
      ],
      "metadata": {
        "id": "ud4r6kZQsYpm"
      }
    },
    {
      "cell_type": "markdown",
      "source": [
        "![](https://github.com/pe8sutd/DSL2025/blob/main/VerilogColab1/Slide47.PNG?raw=1)"
      ],
      "metadata": {
        "id": "eQgQp-DEsbK-"
      }
    },
    {
      "cell_type": "markdown",
      "source": [
        "![](https://github.com/pe8sutd/DSL2025/blob/main/VerilogColab1/Slide48.PNG?raw=1)"
      ],
      "metadata": {
        "id": "J-T7cR2Isd1e"
      }
    },
    {
      "cell_type": "markdown",
      "source": [
        "![](https://github.com/pe8sutd/DSL2025/blob/main/VerilogColab1/Slide49.PNG?raw=1)"
      ],
      "metadata": {
        "id": "o5gE3qrusjxG"
      }
    },
    {
      "cell_type": "markdown",
      "source": [
        "![](https://github.com/pe8sutd/DSL2025/blob/main/VerilogColab1/Slide50.PNG?raw=1)"
      ],
      "metadata": {
        "id": "I8NbWnSYsmB2"
      }
    },
    {
      "cell_type": "markdown",
      "source": [
        "## Question"
      ],
      "metadata": {
        "id": "0un_M3HBmTrN"
      }
    },
    {
      "cell_type": "markdown",
      "source": [
        "\n",
        "\n",
        "1. Write Verilog module for the NAND Latch. Using %%print_verilog to view the circuit diagram.\n",
        "2. Write Verilog module and its testbench for the NAND Latch.\n",
        "3. Plot the waveform.\n",
        "\n",
        "Modification:\n",
        "1. In the testbench, set the initial value s=0; r=0; (This is the race condition).\n",
        "2. Rerun. What is your observation if the gate delay of g1, g1 are the same at #1?\n",
        "3. Change one of the gate delay to #2, and observe the waveform again."
      ],
      "metadata": {
        "id": "sGeHkkWxzGij"
      }
    },
    {
      "cell_type": "code",
      "source": [
        "%%print_verilog\n",
        "\n",
        "module nand_rs(q,qb,s,r);\n",
        "  output q,qb;\n",
        "  input s,r;\n",
        "\n",
        "  nand #1 g1 (q,s,qb);\n",
        "  nand #1 g2 (qb,q,r);\n",
        "\n",
        "endmodule"
      ],
      "metadata": {
        "collapsed": true,
        "id": "3qVIHJffzGIr",
        "outputId": "204d120a-e476-45c0-da34-bd9984d0084e",
        "colab": {
          "base_uri": "https://localhost:8080/",
          "height": 184
        }
      },
      "execution_count": null,
      "outputs": [
        {
          "output_type": "stream",
          "name": "stdout",
          "text": [
            "Installing. Please wait... done!\n"
          ]
        },
        {
          "output_type": "display_data",
          "data": {
            "text/plain": [
              "<IPython.core.display.SVG object>"
            ],
            "image/svg+xml": "<svg xmlns=\"http://www.w3.org/2000/svg\" xmlns:xlink=\"http://www.w3.org/1999/xlink\" xmlns:s=\"https://github.com/nturley/netlistsvg\" width=\"381\" height=\"145\"><style>svg {\n  stroke:#000;\n  fill:none;\n}\ntext {\n  fill:#000;\n  stroke:none;\n  font-size:10px;\n  font-weight: bold;\n  font-family: &quot;Courier New&quot;, monospace;\n}\nline {\n    stroke-linecap: round;\n}\n.nodelabel {\n  text-anchor: middle;\n}\n.inputPortLabel {\n  text-anchor: end;\n}\n.splitjoinBody {\n  fill:#000;\n}</style><g s:type=\"and\" transform=\"translate(208,38)\" s:width=\"30\" s:height=\"25\" id=\"cell_$and$/content/code.v:6$1\"><s:alias val=\"$and\"/><s:alias val=\"$logic_and\"/><s:alias val=\"$_AND_\"/><s:alias val=\"$reduce_and\"/><path d=\"M0,0 L0,25 L15,25 A15 12.5 0 0 0 15,0 Z\" class=\"cell_$and$/content/code.v:6$1\"/><g s:x=\"0\" s:y=\"5\" s:pid=\"A\"/><g s:x=\"0\" s:y=\"20\" s:pid=\"B\"/><g s:x=\"30\" s:y=\"12.5\" s:pid=\"Y\"/></g><g s:type=\"and\" transform=\"translate(77,103)\" s:width=\"30\" s:height=\"25\" id=\"cell_$and$/content/code.v:7$3\"><s:alias val=\"$and\"/><s:alias val=\"$logic_and\"/><s:alias val=\"$_AND_\"/><s:alias val=\"$reduce_and\"/><path d=\"M0,0 L0,25 L15,25 A15 12.5 0 0 0 15,0 Z\" class=\"cell_$and$/content/code.v:7$3\"/><g s:x=\"0\" s:y=\"5\" s:pid=\"A\"/><g s:x=\"0\" s:y=\"20\" s:pid=\"B\"/><g s:x=\"30\" s:y=\"12.5\" s:pid=\"Y\"/></g><g s:type=\"not\" transform=\"translate(274,40.5)\" s:width=\"30\" s:height=\"20\" id=\"cell_$not$/content/code.v:6$2\"><s:alias val=\"$_NOT_\"/><s:alias val=\"$not\"/><s:alias val=\"$logic_not\"/><path d=\"M0,0 L0,20 L20,10 Z\" class=\"cell_$not$/content/code.v:6$2\"/><circle cx=\"24\" cy=\"10\" r=\"3\" class=\"cell_$not$/content/code.v:6$2\"/><g s:x=\"-1\" s:y=\"10\" s:pid=\"A\"/><g s:x=\"27\" s:y=\"10\" s:pid=\"Y\"/></g><g s:type=\"not\" transform=\"translate(143,105.5)\" s:width=\"30\" s:height=\"20\" id=\"cell_$not$/content/code.v:7$4\"><s:alias val=\"$_NOT_\"/><s:alias val=\"$not\"/><s:alias val=\"$logic_not\"/><path d=\"M0,0 L0,20 L20,10 Z\" class=\"cell_$not$/content/code.v:7$4\"/><circle cx=\"24\" cy=\"10\" r=\"3\" class=\"cell_$not$/content/code.v:7$4\"/><g s:x=\"-1\" s:y=\"10\" s:pid=\"A\"/><g s:x=\"27\" s:y=\"10\" s:pid=\"Y\"/></g><g s:type=\"outputExt\" transform=\"translate(339,40.5)\" s:width=\"30\" s:height=\"20\" id=\"cell_q\"><text x=\"15\" y=\"-4\" class=\"nodelabel cell_q\" s:attribute=\"ref\">q</text><s:alias val=\"$_outputExt_\"/><path d=\"M30,0 L30,20 L15,20 L0,10 L15,0 Z\" class=\"cell_q\"/><g s:x=\"0\" s:y=\"10\" s:pid=\"A\"/></g><g s:type=\"outputExt\" transform=\"translate(339,105.5)\" s:width=\"30\" s:height=\"20\" id=\"cell_qb\"><text x=\"15\" y=\"-4\" class=\"nodelabel cell_qb\" s:attribute=\"ref\">qb</text><s:alias val=\"$_outputExt_\"/><path d=\"M30,0 L30,20 L15,20 L0,10 L15,0 Z\" class=\"cell_qb\"/><g s:x=\"0\" s:y=\"10\" s:pid=\"A\"/></g><g s:type=\"inputExt\" transform=\"translate(143,33)\" s:width=\"30\" s:height=\"20\" id=\"cell_s\"><text x=\"15\" y=\"-4\" class=\"nodelabel cell_s\" s:attribute=\"ref\">s</text><s:alias val=\"$_inputExt_\"/><path d=\"M0,0 L0,20 L15,20 L30,10 L15,0 Z\" class=\"cell_s\"/><g s:x=\"30\" s:y=\"10\" s:pid=\"Y\"/></g><g s:type=\"inputExt\" transform=\"translate(12,113)\" s:width=\"30\" s:height=\"20\" id=\"cell_r\"><text x=\"15\" y=\"-4\" class=\"nodelabel cell_r\" s:attribute=\"ref\">r</text><s:alias val=\"$_inputExt_\"/><path d=\"M0,0 L0,20 L15,20 L30,10 L15,0 Z\" class=\"cell_r\"/><g s:x=\"30\" s:y=\"10\" s:pid=\"Y\"/></g><line x1=\"173\" x2=\"208\" y1=\"43\" y2=\"43\" class=\"net_4 width_1\" style=\"stroke-width: 1\"/><line x1=\"170\" x2=\"183\" y1=\"115.5\" y2=\"115.5\" class=\"net_3 width_1\" style=\"stroke-width: 1\"/><line x1=\"183\" x2=\"183\" y1=\"115.5\" y2=\"58\" class=\"net_3 width_1\" style=\"stroke-width: 1\"/><circle cx=\"183\" cy=\"115.5\" r=\"2\" style=\"fill:#000\" class=\"net_3 width_1\"/><line x1=\"183\" x2=\"208\" y1=\"58\" y2=\"58\" class=\"net_3 width_1\" style=\"stroke-width: 1\"/><line x1=\"170\" x2=\"339\" y1=\"115.5\" y2=\"115.5\" class=\"net_3 width_1\" style=\"stroke-width: 1\"/><line x1=\"301\" x2=\"314\" y1=\"50.5\" y2=\"50.5\" class=\"net_2 width_1\" style=\"stroke-width: 1\"/><line x1=\"314\" x2=\"314\" y1=\"50.5\" y2=\"12\" class=\"net_2 width_1\" style=\"stroke-width: 1\"/><line x1=\"314\" x2=\"52\" y1=\"12\" y2=\"12\" class=\"net_2 width_1\" style=\"stroke-width: 1\"/><line x1=\"52\" x2=\"52\" y1=\"12\" y2=\"108\" class=\"net_2 width_1\" style=\"stroke-width: 1\"/><circle cx=\"314\" cy=\"50.5\" r=\"2\" style=\"fill:#000\" class=\"net_2 width_1\"/><line x1=\"52\" x2=\"77\" y1=\"108\" y2=\"108\" class=\"net_2 width_1\" style=\"stroke-width: 1\"/><line x1=\"301\" x2=\"339\" y1=\"50.5\" y2=\"50.5\" class=\"net_2 width_1\" style=\"stroke-width: 1\"/><line x1=\"42\" x2=\"77\" y1=\"123\" y2=\"123\" class=\"net_5 width_1\" style=\"stroke-width: 1\"/><line x1=\"238\" x2=\"273\" y1=\"50.5\" y2=\"50.5\" class=\"net_6 width_1\" style=\"stroke-width: 1\"/><line x1=\"107\" x2=\"142\" y1=\"115.5\" y2=\"115.5\" class=\"net_7 width_1\" style=\"stroke-width: 1\"/></svg>"
          },
          "metadata": {}
        }
      ]
    },
    {
      "cell_type": "code",
      "source": [
        "%%verilog\n",
        "\n",
        "module nand_rs_tb; //\n",
        "  wire q,qb; reg s,r;\n",
        "\n",
        "  nand_rs i1(q,qb,s,r);\n",
        "\n",
        "  initial begin\n",
        "  $dumpfile(\"nand_rs_tb.vcd\");\n",
        "  $dumpvars;\n",
        "    s = 0; r = 1;\n",
        "    #10 s=1; r=1;\n",
        "    #10 s=1; r=0;\n",
        "    #10 s=1; r=1;\n",
        "    #1 $finish;\n",
        "  $dumpoff;\n",
        "    end\n",
        "\n",
        "endmodule ////\n",
        "\n",
        "module nand_rs(q,qb,s,r); //\n",
        "  output q,qb;\n",
        "  input s,r;\n",
        "\n",
        "  nand #1 g1 (q,s,qb);\n",
        "  nand #1 g2 (qb,q,r);\n",
        "\n",
        "endmodule ////\n"
      ],
      "metadata": {
        "id": "dkmgw44S0dxV",
        "outputId": "5afb807d-f213-463f-9fcd-d6d04130b4a4",
        "colab": {
          "base_uri": "https://localhost:8080/"
        }
      },
      "execution_count": null,
      "outputs": [
        {
          "output_type": "stream",
          "name": "stdout",
          "text": [
            "VCD info: dumpfile nand_rs_tb.vcd opened for output.\n",
            "\n"
          ]
        }
      ]
    },
    {
      "cell_type": "code",
      "source": [
        "%%waveform nand_rs_tb.vcd\n",
        "sign_list = ['nand_rs_tb.q','nand_rs_tb.qb','nand_rs_tb.s','nand_rs_tb.r']\n",
        "time_begin = 0\n",
        "time_end = 31\n",
        "base = 'bin' # bin, dec, dec2, hex, octal"
      ],
      "metadata": {
        "id": "WnmB4v_rOSxr",
        "outputId": "9aa5ca8e-44e9-4a1e-f4a2-069660bf3bbd",
        "colab": {
          "base_uri": "https://localhost:8080/",
          "height": 207
        }
      },
      "execution_count": null,
      "outputs": [
        {
          "output_type": "display_data",
          "data": {
            "text/plain": [
              "<Figure size 3200x500 with 1 Axes>"
            ],
            "image/png": "[encoded data removed]"
          },
          "metadata": {}
        }
      ]
    },
    {
      "cell_type": "markdown",
      "source": [
        "![](https://github.com/pe8sutd/DSL2025/blob/main/VerilogColab1/Slide51.PNG?raw=1)"
      ],
      "metadata": {
        "id": "eO6d9k7qspTe"
      }
    },
    {
      "cell_type": "markdown",
      "source": [
        "![](https://github.com/pe8sutd/DSL2025/blob/main/VerilogColab1/Slide52.PNG?raw=1)"
      ],
      "metadata": {
        "id": "376zKXJRsuxm"
      }
    },
    {
      "cell_type": "markdown",
      "source": [
        "![](https://github.com/pe8sutd/DSL2025/blob/main/VerilogColab1/Slide53.PNG?raw=1)"
      ],
      "metadata": {
        "id": "zcu_DD-YswtG"
      }
    },
    {
      "cell_type": "markdown",
      "source": [
        "![](https://github.com/pe8sutd/DSL2025/blob/main/VerilogColab1/Slide54.PNG?raw=1)"
      ],
      "metadata": {
        "id": "1vr4AQ_us1De"
      }
    },
    {
      "cell_type": "markdown",
      "source": [
        "![](https://github.com/pe8sutd/DSL2025/blob/main/VerilogColab1/Slide55.PNG?raw=1)"
      ],
      "metadata": {
        "id": "1dS4Vszvs3RP"
      }
    },
    {
      "cell_type": "markdown",
      "source": [
        "![](https://github.com/pe8sutd/DSL2025/blob/main/VerilogColab1/Slide56.PNG?raw=1)"
      ],
      "metadata": {
        "id": "XallS1Pms6lP"
      }
    },
    {
      "cell_type": "markdown",
      "source": [
        "## Modification"
      ],
      "metadata": {
        "id": "SgubhbRuXtyx"
      }
    },
    {
      "cell_type": "code",
      "source": [
        "%%verilog\n",
        "\n",
        "module nand_rs_tb; //\n",
        "  wire q,qb; reg s,r;\n",
        "\n",
        "  nand_rs i1(q,qb,s,r);\n",
        "\n",
        "  initial begin\n",
        "  $dumpfile(\"nand_rs_tb.vcd\");\n",
        "  $dumpvars;\n",
        "    s = 0; r = 0;\n",
        "    #10 s=1; r=1;\n",
        "    #10 s=1; r=0;\n",
        "    #10 s=1; r=1;\n",
        "    #1 $finish;\n",
        "  $dumpoff;\n",
        "    end\n",
        "\n",
        "endmodule ////\n",
        "\n",
        "module nand_rs(q,qb,s,r); //\n",
        "  output q,qb;\n",
        "  input s,r;\n",
        "\n",
        "  nand #1 g1 (q,s,qb);\n",
        "  nand #1 g2 (qb,q,r);\n",
        "\n",
        "endmodule ////"
      ],
      "metadata": {
        "colab": {
          "base_uri": "https://localhost:8080/"
        },
        "id": "kNXOdumAXtWR",
        "outputId": "4390915e-9381-49c7-f321-472eeca6f908"
      },
      "execution_count": null,
      "outputs": [
        {
          "output_type": "stream",
          "name": "stdout",
          "text": [
            "VCD info: dumpfile nand_rs_tb.vcd opened for output.\n",
            "\n"
          ]
        }
      ]
    },
    {
      "cell_type": "code",
      "source": [
        "%%waveform nand_rs_tb.vcd\n",
        "sign_list = ['nand_rs_tb.q','nand_rs_tb.qb','nand_rs_tb.s','nand_rs_tb.r']\n",
        "time_begin = 0\n",
        "time_end = 31\n",
        "base = 'bin' # bin, dec, dec2, hex, octal"
      ],
      "metadata": {
        "colab": {
          "base_uri": "https://localhost:8080/",
          "height": 207
        },
        "id": "M56dKXLZX6rp",
        "outputId": "88b692ab-9b98-4259-b47b-8407dd84b4fd"
      },
      "execution_count": null,
      "outputs": [
        {
          "output_type": "display_data",
          "data": {
            "text/plain": [
              "<Figure size 3200x500 with 1 Axes>"
            ],
            "image/png": "[encoded data removed]"
          },
          "metadata": {}
        }
      ]
    },
    {
      "cell_type": "markdown",
      "source": [
        "## Other Verilog Syntex"
      ],
      "metadata": {
        "id": "pbznXGjnhwMk"
      }
    },
    {
      "cell_type": "markdown",
      "source": [
        "![](https://github.com/pe8sutd/DSL2025/blob/main/VerilogColab1/Slide57.PNG?raw=1)"
      ],
      "metadata": {
        "id": "CnK0MaQQs89e"
      }
    },
    {
      "cell_type": "markdown",
      "source": [
        "![](https://github.com/pe8sutd/DSL2025/blob/main/VerilogColab1/Slide58.PNG?raw=1)"
      ],
      "metadata": {
        "id": "kCFs73Q0s_SG"
      }
    },
    {
      "cell_type": "markdown",
      "source": [
        "![](https://github.com/pe8sutd/DSL2025/blob/main/VerilogColab1/Slide59.PNG?raw=1)"
      ],
      "metadata": {
        "id": "-A4dFQagtB_m"
      }
    },
    {
      "cell_type": "markdown",
      "source": [
        "![](https://github.com/pe8sutd/DSL2025/blob/main/VerilogColab1/Slide60.PNG?raw=1)"
      ],
      "metadata": {
        "id": "dR4ZXJCMtEG2"
      }
    },
    {
      "cell_type": "markdown",
      "source": [
        "![](https://github.com/pe8sutd/DSL2025/blob/main/VerilogColab1/Slide61.PNG?raw=1)"
      ],
      "metadata": {
        "id": "-8kUIgi3tHEe"
      }
    },
    {
      "cell_type": "markdown",
      "source": [
        "![](https://github.com/pe8sutd/DSL2025/blob/main/VerilogColab1/Slide62.PNG?raw=1)"
      ],
      "metadata": {
        "id": "xf3zi0YXtQEe"
      }
    },
    {
      "cell_type": "markdown",
      "source": [
        "![](https://github.com/pe8sutd/DSL2025/blob/main/VerilogColab1/Slide63.PNG?raw=1)"
      ],
      "metadata": {
        "id": "VBFDy-yStSPe"
      }
    },
    {
      "cell_type": "markdown",
      "source": [
        "![](https://github.com/pe8sutd/DSL2025/blob/main/VerilogColab1/Slide64.PNG?raw=1)"
      ],
      "metadata": {
        "id": "fb1o-vFqtVNG"
      }
    },
    {
      "cell_type": "markdown",
      "source": [
        "![](https://github.com/pe8sutd/DSL2025/blob/main/VerilogColab1/Slide65.PNG?raw=1)"
      ],
      "metadata": {
        "id": "88-WjaigtXk2"
      }
    },
    {
      "cell_type": "markdown",
      "source": [
        "## $monitor"
      ],
      "metadata": {
        "id": "_a2mLbqThpMt"
      }
    },
    {
      "cell_type": "markdown",
      "source": [
        "![](https://github.com/pe8sutd/DSL2025/blob/main/VerilogColab1/Slide66.PNG?raw=1)"
      ],
      "metadata": {
        "id": "suQTxWLatZ1m"
      }
    },
    {
      "cell_type": "markdown",
      "source": [
        "![](https://github.com/pe8sutd/DSL2025/blob/main/VerilogColab1/Slide67.PNG?raw=1)"
      ],
      "metadata": {
        "id": "2xFXwBeFtcEG"
      }
    },
    {
      "cell_type": "code",
      "source": [
        "%%verilog\n",
        "\n",
        "module nand_rs_tb; //\n",
        "  wire q,qb; reg s,r;\n",
        "\n",
        "  nand_rs i1(q,qb,s,r);\n",
        "\n",
        "  initial begin\n",
        "  $dumpfile(\"tb.vcd\");\n",
        "  $dumpvars;\n",
        "    s = 0; r = 1;\n",
        "    #10 s=1; r=1;\n",
        "    #10 s=1; r=0;\n",
        "    #10 s=1; r=1;\n",
        "    #1 $finish;\n",
        "  $dumpoff;\n",
        "    end\n",
        "\n",
        "  initial begin\n",
        "    $monitor(\"%d q=%b qb=%b s=%b r=%b\",$time,q,qb,s,r);\n",
        "  end\n",
        "\n",
        "endmodule ////\n",
        "\n",
        "module nand_rs(q,qb,s,r); //\n",
        "  output q,qb;\n",
        "  input s,r;\n",
        "\n",
        "  nand #1 g1 (q,s,qb);\n",
        "  nand #1 g2 (qb,q,r);\n",
        "\n",
        "endmodule ////"
      ],
      "metadata": {
        "colab": {
          "base_uri": "https://localhost:8080/"
        },
        "id": "cZQBRX51Y_Uq",
        "outputId": "cfc42388-e037-4650-bc29-80e3754a6f79"
      },
      "execution_count": null,
      "outputs": [
        {
          "output_type": "stream",
          "name": "stdout",
          "text": [
            "VCD info: dumpfile tb.vcd opened for output.\n",
            "                   0 q=x qb=x s=0 r=1\n",
            "                   1 q=1 qb=x s=0 r=1\n",
            "                   2 q=1 qb=0 s=0 r=1\n",
            "                  10 q=1 qb=0 s=1 r=1\n",
            "                  20 q=1 qb=0 s=1 r=0\n",
            "                  21 q=1 qb=1 s=1 r=0\n",
            "                  22 q=0 qb=1 s=1 r=0\n",
            "                  30 q=0 qb=1 s=1 r=1\n",
            "\n"
          ]
        }
      ]
    },
    {
      "cell_type": "code",
      "source": [
        "%%waveform tb.vcd\n",
        "sign_list = ['nand_rs_tb.q','nand_rs_tb.qb','nand_rs_tb.s','nand_rs_tb.r']\n",
        "time_begin = 0\n",
        "time_end = 31\n",
        "base = 'bin' # bin, dec, dec2, hex, octal"
      ],
      "metadata": {
        "colab": {
          "base_uri": "https://localhost:8080/",
          "height": 465
        },
        "id": "aN5NgqKXgGWi",
        "outputId": "a43af1d3-71a1-4db9-b141-e91d57444b11"
      },
      "execution_count": null,
      "outputs": [
        {
          "output_type": "display_data",
          "data": {
            "text/plain": [
              "<Figure size 3200x500 with 1 Axes>"
            ],
            "image/png": "[encoded data removed]"
          },
          "metadata": {}
        }
      ]
    },
    {
      "cell_type": "markdown",
      "source": [
        "![](https://github.com/pe8sutd/DSL2025/blob/main/VerilogColab1/Slide68.PNG?raw=1)"
      ],
      "metadata": {
        "id": "cM5LVvbNteWv"
      }
    },
    {
      "cell_type": "markdown",
      "source": [
        "![](https://github.com/pe8sutd/DSL2025/blob/main/VerilogColab1/Slide69.PNG?raw=1)"
      ],
      "metadata": {
        "id": "prKce6D6tgid"
      }
    },
    {
      "cell_type": "markdown",
      "source": [
        "## Handson Verilog - NOR Latch"
      ],
      "metadata": {
        "id": "QHFPhL1qhKt0"
      }
    },
    {
      "cell_type": "markdown",
      "source": [
        "![](https://github.com/pe8sutd/DSL2025/blob/main/VerilogColab1/Slide70.PNG?raw=1)"
      ],
      "metadata": {
        "id": "O7cwzBNBtio2"
      }
    },
    {
      "cell_type": "markdown",
      "source": [
        "![](https://github.com/pe8sutd/DSL2025/blob/main/VerilogColab1/Slide71.PNG?raw=1)"
      ],
      "metadata": {
        "id": "GTlCA3u6tm2-"
      }
    },
    {
      "cell_type": "markdown",
      "source": [
        "![](https://github.com/pe8sutd/DSL2025/blob/main/VerilogColab1/Slide72.PNG?raw=1)"
      ],
      "metadata": {
        "id": "n_7MQPxetrvG"
      }
    },
    {
      "cell_type": "markdown",
      "source": [
        "![](https://github.com/pe8sutd/DSL2025/blob/main/VerilogColab1/Slide73.PNG?raw=1)"
      ],
      "metadata": {
        "id": "5dkdHrvktviO"
      }
    },
    {
      "cell_type": "markdown",
      "source": [
        "![](https://github.com/pe8sutd/DSL2025/blob/main/VerilogColab1/Slide74.PNG?raw=1)"
      ],
      "metadata": {
        "id": "PaPUEzj-tyDu"
      }
    },
    {
      "cell_type": "markdown",
      "source": [
        "![](https://github.com/pe8sutd/DSL2025/blob/main/VerilogColab1/Slide75.PNG?raw=1)"
      ],
      "metadata": {
        "id": "iCRo0G5Bt05G"
      }
    },
    {
      "cell_type": "code",
      "source": [
        "%%verilog\n",
        "\n",
        "//\n",
        "module nor_rs_tb;\n",
        "  wire q,qb;\n",
        "  reg r,s;\n",
        "\n",
        "  nor_rs i1(q,qb,r,s);\n",
        "\n",
        "initial begin\n",
        "  $dumpfile(\"tb.vcd\");\n",
        "  $dumpvars();\n",
        "\n",
        "  r=1; s=0;\n",
        "  #10 r=0; s=0;\n",
        "  #10 r=0; s=1;\n",
        "  #10 r=0; s=0;\n",
        "  #1 $finish;\n",
        "  $dumpoff;\n",
        "end\n",
        "\n",
        "initial begin\n",
        "  $monitor(\"%d q=%b qb=%b r=%b s=%b\",$time,q,qb,r,s);\n",
        "end\n",
        "\n",
        "endmodule\n",
        "////\n",
        "\n",
        "//\n",
        "module nor_rs (q,qb,r,s);\n",
        "  output q,qb;\n",
        "  input r,s;\n",
        "\n",
        "  nor #1 g1 (q,r,qb);\n",
        "  nor #2 g2 (qb,q,s);\n",
        "\n",
        "endmodule\n",
        "////\n"
      ],
      "metadata": {
        "colab": {
          "base_uri": "https://localhost:8080/"
        },
        "id": "XDCYj-EldS1a",
        "outputId": "46fd1619-f25d-4772-a340-465a8afe4b41"
      },
      "execution_count": 1,
      "outputs": [
        {
          "output_type": "stream",
          "name": "stderr",
          "text": [
            "UsageError: Cell magic `%%verilog` not found.\n"
          ]
        }
      ]
    },
    {
      "cell_type": "code",
      "source": [
        "%%waveform tb.vcd\n",
        "sign_list = ['nor_rs_tb.q','nor_rs_tb.qb','nor_rs_tb.s','nor_rs_tb.r']\n",
        "time_begin = 0\n",
        "time_end = 31\n",
        "base = 'bin' # bin, dec, dec2, hex, octal"
      ],
      "metadata": {
        "colab": {
          "base_uri": "https://localhost:8080/"
        },
        "id": "k7KY6ifkf_Cr",
        "outputId": "0f881ab0-71a3-42ef-e8f9-f7dfc259611d"
      },
      "execution_count": 2,
      "outputs": [
        {
          "output_type": "stream",
          "name": "stderr",
          "text": [
            "UsageError: Cell magic `%%waveform` not found.\n"
          ]
        }
      ]
    },
    {
      "cell_type": "markdown",
      "source": [
        "![](https://github.com/pe8sutd/DSL2025/blob/main/VerilogColab1/Slide76.PNG?raw=1)"
      ],
      "metadata": {
        "id": "W0_26JpBt3NO"
      }
    },
    {
      "cell_type": "markdown",
      "source": [
        "## D-latch from SR-latch"
      ],
      "metadata": {
        "id": "KuYBLvJTPciJ"
      }
    },
    {
      "cell_type": "markdown",
      "source": [
        "Additional Exercise: Design a D-latch based on the NAND SR latch. You can refer to the slide above for D-latch. The task is to write a Verilog module and also the testbench. The testbench needs to have Clock signal beside data, D, and output Q, Qb."
      ],
      "metadata": {
        "id": "VttaCUDNU7zx"
      }
    },
    {
      "cell_type": "markdown",
      "source": [
        "![](https://github.com/pe8sutd/DSL2025/blob/main/VerilogColab3/Slide76_1.PNG?raw=1)"
      ],
      "metadata": {
        "id": "BawKwHUJRdqT"
      }
    },
    {
      "cell_type": "code",
      "source": [
        "%%print_verilog\n",
        "\n",
        "module dlatch(Q,Qb,D,Clock);\n",
        "  output Q,Qb;\n",
        "  input D,Clock;\n",
        "  wire Y,R,S;\n",
        "\n",
        "  not i1(Y,D);\n",
        "  nand n3(S,D,Clock);\n",
        "  nand n4(R,Clock,Y);\n",
        "  nand n1(Q,S,Qb);\n",
        "  nand n2(Qb,Q,R);\n",
        "\n",
        "endmodule"
      ],
      "metadata": {
        "id": "JwLF2rlJRc8I",
        "collapsed": true,
        "outputId": "58f5b171-c48b-424d-f173-94d1cc3f48c8",
        "colab": {
          "base_uri": "https://localhost:8080/",
          "height": 243
        }
      },
      "execution_count": 5,
      "outputs": [
        {
          "output_type": "stream",
          "name": "stdout",
          "text": [
            "Installing. Please wait... done!\n"
          ]
        },
        {
          "output_type": "display_data",
          "data": {
            "text/plain": [
              "<IPython.core.display.SVG object>"
            ],
            "image/svg+xml": "<svg xmlns=\"http://www.w3.org/2000/svg\" xmlns:xlink=\"http://www.w3.org/1999/xlink\" xmlns:s=\"https://github.com/nturley/netlistsvg\" width=\"457\" height=\"204\"><style>svg {\n  stroke:#000;\n  fill:none;\n}\ntext {\n  fill:#000;\n  stroke:none;\n  font-size:10px;\n  font-weight: bold;\n  font-family: &quot;Courier New&quot;, monospace;\n}\nline {\n    stroke-linecap: round;\n}\n.nodelabel {\n  text-anchor: middle;\n}\n.inputPortLabel {\n  text-anchor: end;\n}\n.splitjoinBody {\n  fill:#000;\n}</style><g s:type=\"and\" transform=\"translate(405,87)\" s:width=\"30\" s:height=\"25\" id=\"cell_$and$/content/code.v:10$6\"><s:alias val=\"$and\"/><s:alias val=\"$logic_and\"/><s:alias val=\"$_AND_\"/><s:alias val=\"$reduce_and\"/><path d=\"M0,0 L0,25 L15,25 A15 12.5 0 0 0 15,0 Z\" class=\"cell_$and$/content/code.v:10$6\"/><g s:x=\"0\" s:y=\"5\" s:pid=\"A\"/><g s:x=\"0\" s:y=\"20\" s:pid=\"B\"/><g s:x=\"30\" s:y=\"12.5\" s:pid=\"Y\"/></g><g s:type=\"and\" transform=\"translate(274,154.5)\" s:width=\"30\" s:height=\"25\" id=\"cell_$and$/content/code.v:11$8\"><s:alias val=\"$and\"/><s:alias val=\"$logic_and\"/><s:alias val=\"$_AND_\"/><s:alias val=\"$reduce_and\"/><path d=\"M0,0 L0,25 L15,25 A15 12.5 0 0 0 15,0 Z\" class=\"cell_$and$/content/code.v:11$8\"/><g s:x=\"0\" s:y=\"5\" s:pid=\"A\"/><g s:x=\"0\" s:y=\"20\" s:pid=\"B\"/><g s:x=\"30\" s:y=\"12.5\" s:pid=\"Y\"/></g><g s:type=\"and\" transform=\"translate(274,79.5)\" s:width=\"30\" s:height=\"25\" id=\"cell_$and$/content/code.v:8$2\"><s:alias val=\"$and\"/><s:alias val=\"$logic_and\"/><s:alias val=\"$_AND_\"/><s:alias val=\"$reduce_and\"/><path d=\"M0,0 L0,25 L15,25 A15 12.5 0 0 0 15,0 Z\" class=\"cell_$and$/content/code.v:8$2\"/><g s:x=\"0\" s:y=\"5\" s:pid=\"A\"/><g s:x=\"0\" s:y=\"20\" s:pid=\"B\"/><g s:x=\"30\" s:y=\"12.5\" s:pid=\"Y\"/></g><g s:type=\"and\" transform=\"translate(143,162)\" s:width=\"30\" s:height=\"25\" id=\"cell_$and$/content/code.v:9$4\"><s:alias val=\"$and\"/><s:alias val=\"$logic_and\"/><s:alias val=\"$_AND_\"/><s:alias val=\"$reduce_and\"/><path d=\"M0,0 L0,25 L15,25 A15 12.5 0 0 0 15,0 Z\" class=\"cell_$and$/content/code.v:9$4\"/><g s:x=\"0\" s:y=\"5\" s:pid=\"A\"/><g s:x=\"0\" s:y=\"20\" s:pid=\"B\"/><g s:x=\"30\" s:y=\"12.5\" s:pid=\"Y\"/></g><g s:type=\"not\" transform=\"translate(209,32)\" s:width=\"30\" s:height=\"20\" id=\"cell_$not$/content/code.v:10$7\"><s:alias val=\"$_NOT_\"/><s:alias val=\"$not\"/><s:alias val=\"$logic_not\"/><path d=\"M0,0 L0,20 L20,10 Z\" class=\"cell_$not$/content/code.v:10$7\"/><circle cx=\"24\" cy=\"10\" r=\"3\" class=\"cell_$not$/content/code.v:10$7\"/><g s:x=\"-1\" s:y=\"10\" s:pid=\"A\"/><g s:x=\"27\" s:y=\"10\" s:pid=\"Y\"/></g><g s:type=\"not\" transform=\"translate(340,157)\" s:width=\"30\" s:height=\"20\" id=\"cell_$not$/content/code.v:11$9\"><s:alias val=\"$_NOT_\"/><s:alias val=\"$not\"/><s:alias val=\"$logic_not\"/><path d=\"M0,0 L0,20 L20,10 Z\" class=\"cell_$not$/content/code.v:11$9\"/><circle cx=\"24\" cy=\"10\" r=\"3\" class=\"cell_$not$/content/code.v:11$9\"/><g s:x=\"-1\" s:y=\"10\" s:pid=\"A\"/><g s:x=\"27\" s:y=\"10\" s:pid=\"Y\"/></g><g s:type=\"not\" transform=\"translate(78,172)\" s:width=\"30\" s:height=\"20\" id=\"cell_$not$/content/code.v:7$1\"><s:alias val=\"$_NOT_\"/><s:alias val=\"$not\"/><s:alias val=\"$logic_not\"/><path d=\"M0,0 L0,20 L20,10 Z\" class=\"cell_$not$/content/code.v:7$1\"/><circle cx=\"24\" cy=\"10\" r=\"3\" class=\"cell_$not$/content/code.v:7$1\"/><g s:x=\"-1\" s:y=\"10\" s:pid=\"A\"/><g s:x=\"27\" s:y=\"10\" s:pid=\"Y\"/></g><g s:type=\"not\" transform=\"translate(340,82)\" s:width=\"30\" s:height=\"20\" id=\"cell_$not$/content/code.v:8$3\"><s:alias val=\"$_NOT_\"/><s:alias val=\"$not\"/><s:alias val=\"$logic_not\"/><path d=\"M0,0 L0,20 L20,10 Z\" class=\"cell_$not$/content/code.v:8$3\"/><circle cx=\"24\" cy=\"10\" r=\"3\" class=\"cell_$not$/content/code.v:8$3\"/><g s:x=\"-1\" s:y=\"10\" s:pid=\"A\"/><g s:x=\"27\" s:y=\"10\" s:pid=\"Y\"/></g><g s:type=\"not\" transform=\"translate(209,164.5)\" s:width=\"30\" s:height=\"20\" id=\"cell_$not$/content/code.v:9$5\"><s:alias val=\"$_NOT_\"/><s:alias val=\"$not\"/><s:alias val=\"$logic_not\"/><path d=\"M0,0 L0,20 L20,10 Z\" class=\"cell_$not$/content/code.v:9$5\"/><circle cx=\"24\" cy=\"10\" r=\"3\" class=\"cell_$not$/content/code.v:9$5\"/><g s:x=\"-1\" s:y=\"10\" s:pid=\"A\"/><g s:x=\"27\" s:y=\"10\" s:pid=\"Y\"/></g><g s:type=\"outputExt\" transform=\"translate(405,32)\" s:width=\"30\" s:height=\"20\" id=\"cell_Q\"><text x=\"15\" y=\"-4\" class=\"nodelabel cell_Q\" s:attribute=\"ref\">Q</text><s:alias val=\"$_outputExt_\"/><path d=\"M30,0 L30,20 L15,20 L0,10 L15,0 Z\" class=\"cell_Q\"/><g s:x=\"0\" s:y=\"10\" s:pid=\"A\"/></g><g s:type=\"outputExt\" transform=\"translate(405,157)\" s:width=\"30\" s:height=\"20\" id=\"cell_Qb\"><text x=\"15\" y=\"-4\" class=\"nodelabel cell_Qb\" s:attribute=\"ref\">Qb</text><s:alias val=\"$_outputExt_\"/><path d=\"M30,0 L30,20 L15,20 L0,10 L15,0 Z\" class=\"cell_Qb\"/><g s:x=\"0\" s:y=\"10\" s:pid=\"A\"/></g><g s:type=\"inputExt\" transform=\"translate(12,74.5)\" s:width=\"30\" s:height=\"20\" id=\"cell_D\"><text x=\"15\" y=\"-4\" class=\"nodelabel cell_D\" s:attribute=\"ref\">D</text><s:alias val=\"$_inputExt_\"/><path d=\"M0,0 L0,20 L15,20 L30,10 L15,0 Z\" class=\"cell_D\"/><g s:x=\"30\" s:y=\"10\" s:pid=\"Y\"/></g><g s:type=\"inputExt\" transform=\"translate(78,105.5)\" s:width=\"30\" s:height=\"20\" id=\"cell_Clock\"><text x=\"15\" y=\"-4\" class=\"nodelabel cell_Clock\" s:attribute=\"ref\">Clock</text><s:alias val=\"$_inputExt_\"/><path d=\"M0,0 L0,20 L15,20 L30,10 L15,0 Z\" class=\"cell_Clock\"/><g s:x=\"30\" s:y=\"10\" s:pid=\"Y\"/></g><line x1=\"367\" x2=\"405\" y1=\"92\" y2=\"92\" class=\"net_6 width_1\" style=\"stroke-width: 1\"/><line x1=\"367\" x2=\"380\" y1=\"167\" y2=\"167\" class=\"net_3 width_1\" style=\"stroke-width: 1\"/><line x1=\"380\" x2=\"380\" y1=\"167\" y2=\"107\" class=\"net_3 width_1\" style=\"stroke-width: 1\"/><circle cx=\"380\" cy=\"167\" r=\"2\" style=\"fill:#000\" class=\"net_3 width_1\"/><line x1=\"380\" x2=\"405\" y1=\"107\" y2=\"107\" class=\"net_3 width_1\" style=\"stroke-width: 1\"/><line x1=\"367\" x2=\"405\" y1=\"167\" y2=\"167\" class=\"net_3 width_1\" style=\"stroke-width: 1\"/><line x1=\"236\" x2=\"259\" y1=\"42\" y2=\"42\" class=\"net_2 width_1\" style=\"stroke-width: 1\"/><line x1=\"259\" x2=\"259\" y1=\"42\" y2=\"159.5\" class=\"net_2 width_1\" style=\"stroke-width: 1\"/><circle cx=\"259\" cy=\"42\" r=\"2\" style=\"fill:#000\" class=\"net_2 width_1\"/><line x1=\"259\" x2=\"274\" y1=\"159.5\" y2=\"159.5\" class=\"net_2 width_1\" style=\"stroke-width: 1\"/><line x1=\"236\" x2=\"405\" y1=\"42\" y2=\"42\" class=\"net_2 width_1\" style=\"stroke-width: 1\"/><line x1=\"236\" x2=\"274\" y1=\"174.5\" y2=\"174.5\" class=\"net_8 width_1\" style=\"stroke-width: 1\"/><line x1=\"42\" x2=\"274\" y1=\"84.5\" y2=\"84.5\" class=\"net_4 width_1\" style=\"stroke-width: 1\"/><line x1=\"42\" x2=\"52\" y1=\"84.5\" y2=\"84.5\" class=\"net_4 width_1\" style=\"stroke-width: 1\"/><line x1=\"52\" x2=\"52\" y1=\"84.5\" y2=\"182\" class=\"net_4 width_1\" style=\"stroke-width: 1\"/><circle cx=\"52\" cy=\"84.5\" r=\"2\" style=\"fill:#000\" class=\"net_4 width_1\"/><line x1=\"52\" x2=\"77\" y1=\"182\" y2=\"182\" class=\"net_4 width_1\" style=\"stroke-width: 1\"/><line x1=\"108\" x2=\"249\" y1=\"115.5\" y2=\"115.5\" class=\"net_5 width_1\" style=\"stroke-width: 1\"/><line x1=\"249\" x2=\"249\" y1=\"115.5\" y2=\"99.5\" class=\"net_5 width_1\" style=\"stroke-width: 1\"/><line x1=\"249\" x2=\"274\" y1=\"99.5\" y2=\"99.5\" class=\"net_5 width_1\" style=\"stroke-width: 1\"/><line x1=\"108\" x2=\"118\" y1=\"115.5\" y2=\"115.5\" class=\"net_5 width_1\" style=\"stroke-width: 1\"/><line x1=\"118\" x2=\"118\" y1=\"115.5\" y2=\"167\" class=\"net_5 width_1\" style=\"stroke-width: 1\"/><circle cx=\"118\" cy=\"115.5\" r=\"2\" style=\"fill:#000\" class=\"net_5 width_1\"/><line x1=\"118\" x2=\"143\" y1=\"167\" y2=\"167\" class=\"net_5 width_1\" style=\"stroke-width: 1\"/><line x1=\"105\" x2=\"143\" y1=\"182\" y2=\"182\" class=\"net_11 width_1\" style=\"stroke-width: 1\"/><line x1=\"435\" x2=\"445\" y1=\"99.5\" y2=\"99.5\" class=\"net_7 width_1\" style=\"stroke-width: 1\"/><line x1=\"445\" x2=\"445\" y1=\"99.5\" y2=\"12\" class=\"net_7 width_1\" style=\"stroke-width: 1\"/><line x1=\"445\" x2=\"183\" y1=\"12\" y2=\"12\" class=\"net_7 width_1\" style=\"stroke-width: 1\"/><line x1=\"183\" x2=\"183\" y1=\"12\" y2=\"42\" class=\"net_7 width_1\" style=\"stroke-width: 1\"/><line x1=\"183\" x2=\"208\" y1=\"42\" y2=\"42\" class=\"net_7 width_1\" style=\"stroke-width: 1\"/><line x1=\"304\" x2=\"339\" y1=\"167\" y2=\"167\" class=\"net_9 width_1\" style=\"stroke-width: 1\"/><line x1=\"304\" x2=\"339\" y1=\"92\" y2=\"92\" class=\"net_10 width_1\" style=\"stroke-width: 1\"/><line x1=\"173\" x2=\"208\" y1=\"174.5\" y2=\"174.5\" class=\"net_12 width_1\" style=\"stroke-width: 1\"/></svg>"
          },
          "metadata": {}
        }
      ]
    },
    {
      "cell_type": "code",
      "source": [
        "%%verilog\n",
        "////////////////////////////////////////////////////\n",
        "module tb;\n",
        "  wire Q,Qb;\n",
        "  reg D,Clock;\n",
        "\n",
        "  dlatch i1(Q,Qb,D,Clock);\n",
        "\n",
        "  initial Clock=0; always #2 Clock=~Clock;\n",
        "  initial begin\n",
        "    $dumpfile(\"tb.vcd\");\n",
        "    $dumpvars();\n",
        "\n",
        "    D=0;\n",
        "    #3 D=1;\n",
        "    #2 D=0;\n",
        "    #2 D=1;\n",
        "    #1 $finish;\n",
        "\n",
        "    $dumpoff;\n",
        "    $monitor(\"%d D=%b, Q=%b, Clock=%b\",$time,D,Qb,Clock);\n",
        "  end\n",
        "\n",
        "endmodule\n",
        "////////////////////////////////////////////////////\n",
        "\n",
        "////////////////////////////////////////////////////\n",
        "module dlatch(Q,Qb,D,Clock);\n",
        "  output Q,Qb;\n",
        "  input D,Clock;\n",
        "  wire Y,R,S;\n",
        "\n",
        "  not i1(Y,D);\n",
        "  nand n3(S,D,Clock);\n",
        "  nand n4(R,Clock,Y);\n",
        "  nand n1(Q,S,Qb);\n",
        "  nand n2(Qb,Q,R);\n",
        "\n",
        "endmodule\n",
        "////////////////////////////////////////////////////"
      ],
      "metadata": {
        "id": "I5WmB94JVufi",
        "outputId": "8e20aa9b-55dc-4f4a-ef8e-fdb3e09d05eb",
        "colab": {
          "base_uri": "https://localhost:8080/"
        }
      },
      "execution_count": 14,
      "outputs": [
        {
          "output_type": "stream",
          "name": "stdout",
          "text": [
            "VCD info: dumpfile tb.vcd opened for output.\n",
            "\n"
          ]
        }
      ]
    },
    {
      "cell_type": "code",
      "source": [
        "%%waveform tb.vcd\n",
        "sign_list = ['tb.Q','tb.D','tb.Clock']\n",
        "time_begin = 0\n",
        "time_end = 11\n",
        "base = 'bin' # bin, dec, dec2, hex, octal"
      ],
      "metadata": {
        "id": "Rj0pByB3V2rI",
        "collapsed": true,
        "outputId": "5a9221d5-67ce-45c8-e4fc-9d8ef7822142",
        "colab": {
          "base_uri": "https://localhost:8080/",
          "height": 272
        }
      },
      "execution_count": 12,
      "outputs": [
        {
          "output_type": "display_data",
          "data": {
            "text/plain": [
              "<Figure size 1200x400 with 1 Axes>"
            ],
            "image/png": "[encoded data removed]"
          },
          "metadata": {}
        }
      ]
    },
    {
      "cell_type": "markdown",
      "source": [
        "## D Flip-Flop from D-latch"
      ],
      "metadata": {
        "id": "UMDX6coDbi2K"
      }
    },
    {
      "cell_type": "markdown",
      "source": [
        "DFF (D Flip-Flop) can be built up using two D-latch in series connection as the above diagram. Write a Verilog module of this DFF, and it testbench. Verify if the output changes on Posedge Edge or Negative Edge of the Clock signal?"
      ],
      "metadata": {
        "id": "x7E3p-ltbyuB"
      }
    },
    {
      "cell_type": "markdown",
      "source": [
        "![](https://github.com/pe8sutd/DSL2025/blob/main/VerilogColab3/Slide76_2.PNG?raw=1)"
      ],
      "metadata": {
        "id": "N9kiEWcSbqtx"
      }
    },
    {
      "cell_type": "code",
      "source": [
        "%%print_verilog\n",
        "module dff(Q,Qb,D,Clock); /////////////////////\n",
        "  output Q,Qb; input D,Clock;\n",
        "  wire Y,Yb,iClock;\n",
        "dlatch master (Y,Yb,D,Clock);\n",
        "dlatch slave (Q,Qb,Y,iClock);\n",
        "not i1(iClock,Clock);\n",
        "endmodule ///////////////////////////////////////\n",
        "\n",
        "module dlatch(Q,Qb,D,Clock); /////////////////////\n",
        "  output Q,Qb; input D,Clock;\n",
        "  wire Y,R,S;\n",
        "  not i1(Y,D);\n",
        "  nand n3(S,D,Clock); nand n4(R,Clock,Y);\n",
        "  nand n1(Q,S,Qb); nand n2(Qb,Q,R);\n",
        "endmodule ///////////////////////////////////////\n"
      ],
      "metadata": {
        "id": "IShz6_mDcNZQ",
        "collapsed": true,
        "outputId": "0faa98b4-4bad-4498-d9a5-7f4649b5c441",
        "colab": {
          "base_uri": "https://localhost:8080/",
          "height": 291
        }
      },
      "execution_count": 21,
      "outputs": [
        {
          "output_type": "display_data",
          "data": {
            "text/plain": [
              "<IPython.core.display.SVG object>"
            ],
            "image/svg+xml": "<svg xmlns=\"http://www.w3.org/2000/svg\" xmlns:xlink=\"http://www.w3.org/1999/xlink\" xmlns:s=\"https://github.com/nturley/netlistsvg\" width=\"722\" height=\"269.5\"><style>svg {\n  stroke:#000;\n  fill:none;\n}\ntext {\n  fill:#000;\n  stroke:none;\n  font-size:10px;\n  font-weight: bold;\n  font-family: &quot;Courier New&quot;, monospace;\n}\nline {\n    stroke-linecap: round;\n}\n.nodelabel {\n  text-anchor: middle;\n}\n.inputPortLabel {\n  text-anchor: end;\n}\n.splitjoinBody {\n  fill:#000;\n}</style><g s:type=\"not\" transform=\"translate(209,94.5)\" s:width=\"30\" s:height=\"20\" id=\"cell_$not$/content/code.v:6$1\"><s:alias val=\"$_NOT_\"/><s:alias val=\"$not\"/><s:alias val=\"$logic_not\"/><path d=\"M0,0 L0,20 L20,10 Z\" class=\"cell_$not$/content/code.v:6$1\"/><circle cx=\"24\" cy=\"10\" r=\"3\" class=\"cell_$not$/content/code.v:6$1\"/><g s:x=\"-1\" s:y=\"10\" s:pid=\"A\"/><g s:x=\"27\" s:y=\"10\" s:pid=\"Y\"/></g><g s:type=\"and\" transform=\"translate(77,173)\" s:width=\"30\" s:height=\"25\" id=\"cell_$techmap\\master.$and$/content/code.v:13$3\"><s:alias val=\"$and\"/><s:alias val=\"$logic_and\"/><s:alias val=\"$_AND_\"/><s:alias val=\"$reduce_and\"/><path d=\"M0,0 L0,25 L15,25 A15 12.5 0 0 0 15,0 Z\" class=\"cell_$techmap\\master.$and$/content/code.v:13$3\"/><g s:x=\"0\" s:y=\"5\" s:pid=\"A\"/><g s:x=\"0\" s:y=\"20\" s:pid=\"B\"/><g s:x=\"30\" s:y=\"12.5\" s:pid=\"Y\"/></g><g s:type=\"and\" transform=\"translate(471.6666666666667,210.5)\" s:width=\"30\" s:height=\"25\" id=\"cell_$techmap\\master.$and$/content/code.v:13$5\"><s:alias val=\"$and\"/><s:alias val=\"$logic_and\"/><s:alias val=\"$_AND_\"/><s:alias val=\"$reduce_and\"/><path d=\"M0,0 L0,25 L15,25 A15 12.5 0 0 0 15,0 Z\" class=\"cell_$techmap\\master.$and$/content/code.v:13$5\"/><g s:x=\"0\" s:y=\"5\" s:pid=\"A\"/><g s:x=\"0\" s:y=\"20\" s:pid=\"B\"/><g s:x=\"30\" s:y=\"12.5\" s:pid=\"Y\"/></g><g s:type=\"and\" transform=\"translate(208.66666666666666,180.5)\" s:width=\"30\" s:height=\"25\" id=\"cell_$techmap\\master.$and$/content/code.v:14$7\"><s:alias val=\"$and\"/><s:alias val=\"$logic_and\"/><s:alias val=\"$_AND_\"/><s:alias val=\"$reduce_and\"/><path d=\"M0,0 L0,25 L15,25 A15 12.5 0 0 0 15,0 Z\" class=\"cell_$techmap\\master.$and$/content/code.v:14$7\"/><g s:x=\"0\" s:y=\"5\" s:pid=\"A\"/><g s:x=\"0\" s:y=\"20\" s:pid=\"B\"/><g s:x=\"30\" s:y=\"12.5\" s:pid=\"Y\"/></g><g s:type=\"and\" transform=\"translate(603.6666666666666,188)\" s:width=\"30\" s:height=\"25\" id=\"cell_$techmap\\master.$and$/content/code.v:14$9\"><s:alias val=\"$and\"/><s:alias val=\"$logic_and\"/><s:alias val=\"$_AND_\"/><s:alias val=\"$reduce_and\"/><path d=\"M0,0 L0,25 L15,25 A15 12.5 0 0 0 15,0 Z\" class=\"cell_$techmap\\master.$and$/content/code.v:14$9\"/><g s:x=\"0\" s:y=\"5\" s:pid=\"A\"/><g s:x=\"0\" s:y=\"20\" s:pid=\"B\"/><g s:x=\"30\" s:y=\"12.5\" s:pid=\"Y\"/></g><g s:type=\"not\" transform=\"translate(406,226.5)\" s:width=\"30\" s:height=\"20\" id=\"cell_$techmap\\master.$not$/content/code.v:12$2\"><s:alias val=\"$_NOT_\"/><s:alias val=\"$not\"/><s:alias val=\"$logic_not\"/><path d=\"M0,0 L0,20 L20,10 Z\" class=\"cell_$techmap\\master.$not$/content/code.v:12$2\"/><circle cx=\"24\" cy=\"10\" r=\"3\" class=\"cell_$techmap\\master.$not$/content/code.v:12$2\"/><g s:x=\"-1\" s:y=\"10\" s:pid=\"A\"/><g s:x=\"27\" s:y=\"10\" s:pid=\"Y\"/></g><g s:type=\"not\" transform=\"translate(143,175.5)\" s:width=\"30\" s:height=\"20\" id=\"cell_$techmap\\master.$not$/content/code.v:13$4\"><s:alias val=\"$_NOT_\"/><s:alias val=\"$not\"/><s:alias val=\"$logic_not\"/><path d=\"M0,0 L0,20 L20,10 Z\" class=\"cell_$techmap\\master.$not$/content/code.v:13$4\"/><circle cx=\"24\" cy=\"10\" r=\"3\" class=\"cell_$techmap\\master.$not$/content/code.v:13$4\"/><g s:x=\"-1\" s:y=\"10\" s:pid=\"A\"/><g s:x=\"27\" s:y=\"10\" s:pid=\"Y\"/></g><g s:type=\"not\" transform=\"translate(538,213)\" s:width=\"30\" s:height=\"20\" id=\"cell_$techmap\\master.$not$/content/code.v:13$6\"><s:alias val=\"$_NOT_\"/><s:alias val=\"$not\"/><s:alias val=\"$logic_not\"/><path d=\"M0,0 L0,20 L20,10 Z\" class=\"cell_$techmap\\master.$not$/content/code.v:13$6\"/><circle cx=\"24\" cy=\"10\" r=\"3\" class=\"cell_$techmap\\master.$not$/content/code.v:13$6\"/><g s:x=\"-1\" s:y=\"10\" s:pid=\"A\"/><g s:x=\"27\" s:y=\"10\" s:pid=\"Y\"/></g><g s:type=\"not\" transform=\"translate(670,190.5)\" s:width=\"30\" s:height=\"20\" id=\"cell_$techmap\\master.$not$/content/code.v:14$10\"><s:alias val=\"$_NOT_\"/><s:alias val=\"$not\"/><s:alias val=\"$logic_not\"/><path d=\"M0,0 L0,20 L20,10 Z\" class=\"cell_$techmap\\master.$not$/content/code.v:14$10\"/><circle cx=\"24\" cy=\"10\" r=\"3\" class=\"cell_$techmap\\master.$not$/content/code.v:14$10\"/><g s:x=\"-1\" s:y=\"10\" s:pid=\"A\"/><g s:x=\"27\" s:y=\"10\" s:pid=\"Y\"/></g><g s:type=\"not\" transform=\"translate(340,183)\" s:width=\"30\" s:height=\"20\" id=\"cell_$techmap\\master.$not$/content/code.v:14$8\"><s:alias val=\"$_NOT_\"/><s:alias val=\"$not\"/><s:alias val=\"$logic_not\"/><path d=\"M0,0 L0,20 L20,10 Z\" class=\"cell_$techmap\\master.$not$/content/code.v:14$8\"/><circle cx=\"24\" cy=\"10\" r=\"3\" class=\"cell_$techmap\\master.$not$/content/code.v:14$8\"/><g s:x=\"-1\" s:y=\"10\" s:pid=\"A\"/><g s:x=\"27\" s:y=\"10\" s:pid=\"Y\"/></g><g s:type=\"and\" transform=\"translate(405.6666666666667,152)\" s:width=\"30\" s:height=\"25\" id=\"cell_$techmap\\slave.$and$/content/code.v:13$3\"><s:alias val=\"$and\"/><s:alias val=\"$logic_and\"/><s:alias val=\"$_AND_\"/><s:alias val=\"$reduce_and\"/><path d=\"M0,0 L0,25 L15,25 A15 12.5 0 0 0 15,0 Z\" class=\"cell_$techmap\\slave.$and$/content/code.v:13$3\"/><g s:x=\"0\" s:y=\"5\" s:pid=\"A\"/><g s:x=\"0\" s:y=\"20\" s:pid=\"B\"/><g s:x=\"30\" s:y=\"12.5\" s:pid=\"Y\"/></g><g s:type=\"and\" transform=\"translate(274,99.5)\" s:width=\"30\" s:height=\"25\" id=\"cell_$techmap\\slave.$and$/content/code.v:13$5\"><s:alias val=\"$and\"/><s:alias val=\"$logic_and\"/><s:alias val=\"$_AND_\"/><s:alias val=\"$reduce_and\"/><path d=\"M0,0 L0,25 L15,25 A15 12.5 0 0 0 15,0 Z\" class=\"cell_$techmap\\slave.$and$/content/code.v:13$5\"/><g s:x=\"0\" s:y=\"5\" s:pid=\"A\"/><g s:x=\"0\" s:y=\"20\" s:pid=\"B\"/><g s:x=\"30\" s:y=\"12.5\" s:pid=\"Y\"/></g><g s:type=\"and\" transform=\"translate(537.6666666666666,84.5)\" s:width=\"30\" s:height=\"25\" id=\"cell_$techmap\\slave.$and$/content/code.v:14$7\"><s:alias val=\"$and\"/><s:alias val=\"$logic_and\"/><s:alias val=\"$_AND_\"/><s:alias val=\"$reduce_and\"/><path d=\"M0,0 L0,25 L15,25 A15 12.5 0 0 0 15,0 Z\" class=\"cell_$techmap\\slave.$and$/content/code.v:14$7\"/><g s:x=\"0\" s:y=\"5\" s:pid=\"A\"/><g s:x=\"0\" s:y=\"20\" s:pid=\"B\"/><g s:x=\"30\" s:y=\"12.5\" s:pid=\"Y\"/></g><g s:type=\"and\" transform=\"translate(405.6666666666667,92)\" s:width=\"30\" s:height=\"25\" id=\"cell_$techmap\\slave.$and$/content/code.v:14$9\"><s:alias val=\"$and\"/><s:alias val=\"$logic_and\"/><s:alias val=\"$_AND_\"/><s:alias val=\"$reduce_and\"/><path d=\"M0,0 L0,25 L15,25 A15 12.5 0 0 0 15,0 Z\" class=\"cell_$techmap\\slave.$and$/content/code.v:14$9\"/><g s:x=\"0\" s:y=\"5\" s:pid=\"A\"/><g s:x=\"0\" s:y=\"20\" s:pid=\"B\"/><g s:x=\"30\" s:y=\"12.5\" s:pid=\"Y\"/></g><g s:type=\"not\" transform=\"translate(472,154.5)\" s:width=\"30\" s:height=\"20\" id=\"cell_$techmap\\slave.$not$/content/code.v:13$4\"><s:alias val=\"$_NOT_\"/><s:alias val=\"$not\"/><s:alias val=\"$logic_not\"/><path d=\"M0,0 L0,20 L20,10 Z\" class=\"cell_$techmap\\slave.$not$/content/code.v:13$4\"/><circle cx=\"24\" cy=\"10\" r=\"3\" class=\"cell_$techmap\\slave.$not$/content/code.v:13$4\"/><g s:x=\"-1\" s:y=\"10\" s:pid=\"A\"/><g s:x=\"27\" s:y=\"10\" s:pid=\"Y\"/></g><g s:type=\"not\" transform=\"translate(340,102)\" s:width=\"30\" s:height=\"20\" id=\"cell_$techmap\\slave.$not$/content/code.v:13$6\"><s:alias val=\"$_NOT_\"/><s:alias val=\"$not\"/><s:alias val=\"$logic_not\"/><path d=\"M0,0 L0,20 L20,10 Z\" class=\"cell_$techmap\\slave.$not$/content/code.v:13$6\"/><circle cx=\"24\" cy=\"10\" r=\"3\" class=\"cell_$techmap\\slave.$not$/content/code.v:13$6\"/><g s:x=\"-1\" s:y=\"10\" s:pid=\"A\"/><g s:x=\"27\" s:y=\"10\" s:pid=\"Y\"/></g><g s:type=\"not\" transform=\"translate(472,94.5)\" s:width=\"30\" s:height=\"20\" id=\"cell_$techmap\\slave.$not$/content/code.v:14$10\"><s:alias val=\"$_NOT_\"/><s:alias val=\"$not\"/><s:alias val=\"$logic_not\"/><path d=\"M0,0 L0,20 L20,10 Z\" class=\"cell_$techmap\\slave.$not$/content/code.v:14$10\"/><circle cx=\"24\" cy=\"10\" r=\"3\" class=\"cell_$techmap\\slave.$not$/content/code.v:14$10\"/><g s:x=\"-1\" s:y=\"10\" s:pid=\"A\"/><g s:x=\"27\" s:y=\"10\" s:pid=\"Y\"/></g><g s:type=\"not\" transform=\"translate(604,87)\" s:width=\"30\" s:height=\"20\" id=\"cell_$techmap\\slave.$not$/content/code.v:14$8\"><s:alias val=\"$_NOT_\"/><s:alias val=\"$not\"/><s:alias val=\"$logic_not\"/><path d=\"M0,0 L0,20 L20,10 Z\" class=\"cell_$techmap\\slave.$not$/content/code.v:14$8\"/><circle cx=\"24\" cy=\"10\" r=\"3\" class=\"cell_$techmap\\slave.$not$/content/code.v:14$8\"/><g s:x=\"-1\" s:y=\"10\" s:pid=\"A\"/><g s:x=\"27\" s:y=\"10\" s:pid=\"Y\"/></g><g s:type=\"outputExt\" transform=\"translate(670,87)\" s:width=\"30\" s:height=\"20\" id=\"cell_Q\"><text x=\"15\" y=\"-4\" class=\"nodelabel cell_Q\" s:attribute=\"ref\">Q</text><s:alias val=\"$_outputExt_\"/><path d=\"M30,0 L30,20 L15,20 L0,10 L15,0 Z\" class=\"cell_Q\"/><g s:x=\"0\" s:y=\"10\" s:pid=\"A\"/></g><g s:type=\"outputExt\" transform=\"translate(670,22)\" s:width=\"30\" s:height=\"20\" id=\"cell_Qb\"><text x=\"15\" y=\"-4\" class=\"nodelabel cell_Qb\" s:attribute=\"ref\">Qb</text><s:alias val=\"$_outputExt_\"/><path d=\"M30,0 L30,20 L15,20 L0,10 L15,0 Z\" class=\"cell_Qb\"/><g s:x=\"0\" s:y=\"10\" s:pid=\"A\"/></g><g s:type=\"inputExt\" transform=\"translate(12,168)\" s:width=\"30\" s:height=\"20\" id=\"cell_D\"><text x=\"15\" y=\"-4\" class=\"nodelabel cell_D\" s:attribute=\"ref\">D</text><s:alias val=\"$_inputExt_\"/><path d=\"M0,0 L0,20 L15,20 L30,10 L15,0 Z\" class=\"cell_D\"/><g s:x=\"30\" s:y=\"10\" s:pid=\"Y\"/></g><g s:type=\"inputExt\" transform=\"translate(12,94.5)\" s:width=\"30\" s:height=\"20\" id=\"cell_Clock\"><text x=\"15\" y=\"-4\" class=\"nodelabel cell_Clock\" s:attribute=\"ref\">Clock</text><s:alias val=\"$_inputExt_\"/><path d=\"M0,0 L0,20 L15,20 L30,10 L15,0 Z\" class=\"cell_Clock\"/><g s:x=\"30\" s:y=\"10\" s:pid=\"Y\"/></g><line x1=\"42\" x2=\"208\" y1=\"104.5\" y2=\"104.5\" class=\"net_5 width_1\" style=\"stroke-width: 1\"/><line x1=\"42\" x2=\"62\" y1=\"104.5\" y2=\"104.5\" class=\"net_5 width_1\" style=\"stroke-width: 1\"/><line x1=\"62\" x2=\"62\" y1=\"104.5\" y2=\"193\" class=\"net_5 width_1\" style=\"stroke-width: 1\"/><circle cx=\"62\" cy=\"104.5\" r=\"2\" style=\"fill:#000\" class=\"net_5 width_1\"/><circle cx=\"62\" cy=\"193\" r=\"2\" style=\"fill:#000\" class=\"net_5 width_1\"/><line x1=\"62\" x2=\"77\" y1=\"193\" y2=\"193\" class=\"net_5 width_1\" style=\"stroke-width: 1\"/><line x1=\"42\" x2=\"62\" y1=\"104.5\" y2=\"104.5\" class=\"net_5 width_1\" style=\"stroke-width: 1\"/><line x1=\"62\" x2=\"62\" y1=\"104.5\" y2=\"215.5\" class=\"net_5 width_1\" style=\"stroke-width: 1\"/><line x1=\"62\" x2=\"471.6666666666667\" y1=\"215.5\" y2=\"215.5\" class=\"net_5 width_1\" style=\"stroke-width: 1\"/><line x1=\"42\" x2=\"77\" y1=\"178\" y2=\"178\" class=\"net_4 width_1\" style=\"stroke-width: 1\"/><line x1=\"42\" x2=\"52\" y1=\"178\" y2=\"178\" class=\"net_4 width_1\" style=\"stroke-width: 1\"/><line x1=\"52\" x2=\"52\" y1=\"178\" y2=\"236.5\" class=\"net_4 width_1\" style=\"stroke-width: 1\"/><circle cx=\"52\" cy=\"178\" r=\"2\" style=\"fill:#000\" class=\"net_4 width_1\"/><line x1=\"52\" x2=\"405\" y1=\"236.5\" y2=\"236.5\" class=\"net_4 width_1\" style=\"stroke-width: 1\"/><line x1=\"433\" x2=\"446\" y1=\"236.5\" y2=\"236.5\" class=\"net_8 width_1\" style=\"stroke-width: 1\"/><line x1=\"446\" x2=\"446\" y1=\"236.5\" y2=\"230.5\" class=\"net_8 width_1\" style=\"stroke-width: 1\"/><line x1=\"446\" x2=\"471.6666666666667\" y1=\"230.5\" y2=\"230.5\" class=\"net_8 width_1\" style=\"stroke-width: 1\"/><line x1=\"170\" x2=\"208.66666666666666\" y1=\"185.5\" y2=\"185.5\" class=\"net_10 width_1\" style=\"stroke-width: 1\"/><line x1=\"697\" x2=\"710\" y1=\"200.5\" y2=\"200.5\" class=\"net_11 width_1\" style=\"stroke-width: 1\"/><line x1=\"710\" x2=\"710\" y1=\"200.5\" y2=\"256.5\" class=\"net_11 width_1\" style=\"stroke-width: 1\"/><line x1=\"710\" x2=\"183\" y1=\"256.5\" y2=\"256.5\" class=\"net_11 width_1\" style=\"stroke-width: 1\"/><line x1=\"183\" x2=\"183\" y1=\"256.5\" y2=\"200.5\" class=\"net_11 width_1\" style=\"stroke-width: 1\"/><line x1=\"183\" x2=\"208.66666666666666\" y1=\"200.5\" y2=\"200.5\" class=\"net_11 width_1\" style=\"stroke-width: 1\"/><line x1=\"367\" x2=\"603.6666666666666\" y1=\"193\" y2=\"193\" class=\"net_13 width_1\" style=\"stroke-width: 1\"/><line x1=\"367\" x2=\"380\" y1=\"193\" y2=\"193\" class=\"net_13 width_1\" style=\"stroke-width: 1\"/><line x1=\"380\" x2=\"380\" y1=\"193\" y2=\"157\" class=\"net_13 width_1\" style=\"stroke-width: 1\"/><circle cx=\"380\" cy=\"193\" r=\"2\" style=\"fill:#000\" class=\"net_13 width_1\"/><line x1=\"380\" x2=\"405.6666666666667\" y1=\"157\" y2=\"157\" class=\"net_13 width_1\" style=\"stroke-width: 1\"/><line x1=\"565\" x2=\"578\" y1=\"223\" y2=\"223\" class=\"net_14 width_1\" style=\"stroke-width: 1\"/><line x1=\"578\" x2=\"578\" y1=\"223\" y2=\"208\" class=\"net_14 width_1\" style=\"stroke-width: 1\"/><line x1=\"578\" x2=\"603.6666666666666\" y1=\"208\" y2=\"208\" class=\"net_14 width_1\" style=\"stroke-width: 1\"/><line x1=\"107\" x2=\"142\" y1=\"185.5\" y2=\"185.5\" class=\"net_7 width_1\" style=\"stroke-width: 1\"/><line x1=\"501.6666666666667\" x2=\"537\" y1=\"223\" y2=\"223\" class=\"net_9 width_1\" style=\"stroke-width: 1\"/><line x1=\"633.6666666666666\" x2=\"669\" y1=\"200.5\" y2=\"200.5\" class=\"net_15 width_1\" style=\"stroke-width: 1\"/><line x1=\"238.66666666666666\" x2=\"339\" y1=\"193\" y2=\"193\" class=\"net_12 width_1\" style=\"stroke-width: 1\"/><line x1=\"238.66666666666666\" x2=\"249\" y1=\"193\" y2=\"193\" class=\"net_12 width_1\" style=\"stroke-width: 1\"/><line x1=\"249\" x2=\"249\" y1=\"193\" y2=\"119.5\" class=\"net_12 width_1\" style=\"stroke-width: 1\"/><circle cx=\"249\" cy=\"193\" r=\"2\" style=\"fill:#000\" class=\"net_12 width_1\"/><line x1=\"249\" x2=\"274\" y1=\"119.5\" y2=\"119.5\" class=\"net_12 width_1\" style=\"stroke-width: 1\"/><line x1=\"236\" x2=\"259\" y1=\"104.5\" y2=\"104.5\" class=\"net_6 width_1\" style=\"stroke-width: 1\"/><line x1=\"259\" x2=\"259\" y1=\"104.5\" y2=\"172\" class=\"net_6 width_1\" style=\"stroke-width: 1\"/><circle cx=\"259\" cy=\"104.5\" r=\"2\" style=\"fill:#000\" class=\"net_6 width_1\"/><line x1=\"259\" x2=\"405.6666666666667\" y1=\"172\" y2=\"172\" class=\"net_6 width_1\" style=\"stroke-width: 1\"/><line x1=\"236\" x2=\"274\" y1=\"104.5\" y2=\"104.5\" class=\"net_6 width_1\" style=\"stroke-width: 1\"/><line x1=\"499\" x2=\"522\" y1=\"164.5\" y2=\"164.5\" class=\"net_18 width_1\" style=\"stroke-width: 1\"/><line x1=\"522\" x2=\"522\" y1=\"164.5\" y2=\"89.5\" class=\"net_18 width_1\" style=\"stroke-width: 1\"/><line x1=\"522\" x2=\"537.6666666666666\" y1=\"89.5\" y2=\"89.5\" class=\"net_18 width_1\" style=\"stroke-width: 1\"/><line x1=\"499\" x2=\"537.6666666666666\" y1=\"104.5\" y2=\"104.5\" class=\"net_3 width_1\" style=\"stroke-width: 1\"/><line x1=\"499\" x2=\"512\" y1=\"104.5\" y2=\"104.5\" class=\"net_3 width_1\" style=\"stroke-width: 1\"/><line x1=\"512\" x2=\"512\" y1=\"104.5\" y2=\"32\" class=\"net_3 width_1\" style=\"stroke-width: 1\"/><circle cx=\"512\" cy=\"104.5\" r=\"2\" style=\"fill:#000\" class=\"net_3 width_1\"/><line x1=\"512\" x2=\"670\" y1=\"32\" y2=\"32\" class=\"net_3 width_1\" style=\"stroke-width: 1\"/><line x1=\"631\" x2=\"644\" y1=\"97\" y2=\"97\" class=\"net_2 width_1\" style=\"stroke-width: 1\"/><line x1=\"644\" x2=\"644\" y1=\"97\" y2=\"73.5\" class=\"net_2 width_1\" style=\"stroke-width: 1\"/><line x1=\"644\" x2=\"380\" y1=\"73.5\" y2=\"73.5\" class=\"net_2 width_1\" style=\"stroke-width: 1\"/><line x1=\"380\" x2=\"380\" y1=\"73.5\" y2=\"97\" class=\"net_2 width_1\" style=\"stroke-width: 1\"/><circle cx=\"644\" cy=\"97\" r=\"2\" style=\"fill:#000\" class=\"net_2 width_1\"/><line x1=\"380\" x2=\"405.6666666666667\" y1=\"97\" y2=\"97\" class=\"net_2 width_1\" style=\"stroke-width: 1\"/><line x1=\"631\" x2=\"670\" y1=\"97\" y2=\"97\" class=\"net_2 width_1\" style=\"stroke-width: 1\"/><line x1=\"367\" x2=\"405.6666666666667\" y1=\"112\" y2=\"112\" class=\"net_20 width_1\" style=\"stroke-width: 1\"/><line x1=\"435.6666666666667\" x2=\"471\" y1=\"164.5\" y2=\"164.5\" class=\"net_16 width_1\" style=\"stroke-width: 1\"/><line x1=\"304\" x2=\"339\" y1=\"112\" y2=\"112\" class=\"net_17 width_1\" style=\"stroke-width: 1\"/><line x1=\"435.6666666666667\" x2=\"471\" y1=\"104.5\" y2=\"104.5\" class=\"net_21 width_1\" style=\"stroke-width: 1\"/><line x1=\"567.6666666666666\" x2=\"603\" y1=\"97\" y2=\"97\" class=\"net_19 width_1\" style=\"stroke-width: 1\"/></svg>"
          },
          "metadata": {}
        }
      ]
    },
    {
      "cell_type": "code",
      "source": [
        "%%verilog\n",
        "\n",
        "module tb; ////////////////////////////////////////\n",
        "  wire Q,Qb;\n",
        "  reg D,Clock;\n",
        "\n",
        "  dff i1(Q,Qb,D,Clock);\n",
        "\n",
        "  initial Clock=0; always #2 Clock=~Clock;\n",
        "  initial begin\n",
        "    $dumpfile(\"tb.vcd\");\n",
        "    $dumpvars();\n",
        "\n",
        "    D=0;\n",
        "    #1 D=1;\n",
        "    #2 D=0;\n",
        "    #2 D=1;\n",
        "    #4 D=0;\n",
        "    #2 D=1;\n",
        "    #1 $finish;\n",
        "\n",
        "    $dumpoff;\n",
        "    $monitor(\"%d D=%b, Q=%b, Clock=%b\",$time,D,Qb,Clock);\n",
        "  end\n",
        "\n",
        "endmodule ///////////////////////////////////////\n",
        "\n",
        "module dff(Q,Qb,D,Clock); /////////////////////\n",
        "  output Q,Qb; input D,Clock;\n",
        "  wire Y,Yb,iClock;\n",
        "dlatch master (Y,Yb,D,Clock);\n",
        "dlatch slave (Q,Qb,Y,iClock);\n",
        "not i1(iClock,Clock);\n",
        "endmodule ///////////////////////////////////////\n",
        "\n",
        "module dlatch(Q,Qb,D,Clock); /////////////////////\n",
        "  output Q,Qb; input D,Clock;\n",
        "  wire Y,R,S;\n",
        "  not i1(Y,D);\n",
        "  nand n3(S,D,Clock); nand n4(R,Clock,Y);\n",
        "  nand n1(Q,S,Qb); nand n2(Qb,Q,R);\n",
        "endmodule ///////////////////////////////////////\n"
      ],
      "metadata": {
        "id": "FyZitFYFcNIx",
        "outputId": "0c061fe9-118e-49d6-9749-7fa71cbd0ad0",
        "colab": {
          "base_uri": "https://localhost:8080/"
        }
      },
      "execution_count": 30,
      "outputs": [
        {
          "output_type": "stream",
          "name": "stdout",
          "text": [
            "VCD info: dumpfile tb.vcd opened for output.\n",
            "\n"
          ]
        }
      ]
    },
    {
      "cell_type": "code",
      "source": [
        "%%waveform tb.vcd\n",
        "sign_list = ['tb.Q','tb.D','tb.Clock']\n",
        "time_begin = 0\n",
        "time_end = 13\n",
        "base = 'bin' # bin, dec, dec2, hex, octal"
      ],
      "metadata": {
        "id": "_BranDDjcM0B",
        "outputId": "a31894c5-28f9-4813-e0dc-75e7370c99c3",
        "colab": {
          "base_uri": "https://localhost:8080/",
          "height": 238
        }
      },
      "execution_count": 31,
      "outputs": [
        {
          "output_type": "display_data",
          "data": {
            "text/plain": [
              "<Figure size 1400x400 with 1 Axes>"
            ],
            "image/png": "[encoded data removed]"
          },
          "metadata": {}
        }
      ]
    },
    {
      "cell_type": "markdown",
      "source": [
        "Verify if the output changes on Posedge Edge or Negative Edge of the Clock signal? \\\n",
        "Answer: Negetive Edge"
      ],
      "metadata": {
        "id": "1cf9yX2YvZ_c"
      }
    },
    {
      "cell_type": "markdown",
      "source": [
        "## Behavioral Modelling"
      ],
      "metadata": {
        "id": "bFhViPIGdDQq"
      }
    },
    {
      "cell_type": "markdown",
      "source": [
        "![](https://github.com/pe8sutd/DSL2025/blob/main/VerilogColab1/Slide77.PNG?raw=1)"
      ],
      "metadata": {
        "id": "0ERwwmQmt5T2"
      }
    },
    {
      "cell_type": "markdown",
      "source": [
        "![](https://github.com/pe8sutd/DSL2025/blob/main/VerilogColab1/Slide78.PNG?raw=1)"
      ],
      "metadata": {
        "id": "wJWPF__St7zG"
      }
    },
    {
      "cell_type": "markdown",
      "source": [
        "![](https://github.com/pe8sutd/DSL2025/blob/main/VerilogColab1/Slide79.PNG?raw=1)"
      ],
      "metadata": {
        "id": "vNnYBVg-t-Hu"
      }
    },
    {
      "cell_type": "markdown",
      "source": [
        "![](https://github.com/pe8sutd/DSL2025/blob/main/VerilogColab1/Slide80.PNG?raw=1)"
      ],
      "metadata": {
        "id": "xtB5m9XduAc2"
      }
    },
    {
      "cell_type": "markdown",
      "source": [
        "![](https://github.com/pe8sutd/DSL2025/blob/main/VerilogColab1/Slide81.PNG?raw=1)"
      ],
      "metadata": {
        "id": "jrVzqHCNuDE_"
      }
    },
    {
      "cell_type": "markdown",
      "source": [
        "![](https://github.com/pe8sutd/DSL2025/blob/main/VerilogColab1/Slide82.PNG?raw=1)"
      ],
      "metadata": {
        "id": "vMxXaDYQuFKf"
      }
    },
    {
      "cell_type": "markdown",
      "source": [
        "![](https://github.com/pe8sutd/DSL2025/blob/main/VerilogColab1/Slide83.PNG?raw=1)"
      ],
      "metadata": {
        "id": "tVnTjBy4uI-P"
      }
    },
    {
      "cell_type": "markdown",
      "source": [
        "![](https://github.com/pe8sutd/DSL2025/blob/main/VerilogColab1/Slide84.PNG?raw=1)"
      ],
      "metadata": {
        "id": "riK_sCHsuO_e"
      }
    },
    {
      "cell_type": "markdown",
      "source": [
        "![](https://github.com/pe8sutd/DSL2025/blob/main/VerilogColab1/Slide85.PNG?raw=1)"
      ],
      "metadata": {
        "id": "K02ln7j4uRPn"
      }
    },
    {
      "cell_type": "markdown",
      "source": [
        "![](https://github.com/pe8sutd/DSL2025/blob/main/VerilogColab1/Slide86.PNG?raw=1)"
      ],
      "metadata": {
        "id": "A5qLZdsTuTZO"
      }
    },
    {
      "cell_type": "markdown",
      "source": [
        "![](https://github.com/pe8sutd/DSL2025/blob/main/VerilogColab1/Slide87.PNG?raw=1)"
      ],
      "metadata": {
        "id": "rNtOsPF8uW2m"
      }
    },
    {
      "cell_type": "markdown",
      "source": [
        "![](https://github.com/pe8sutd/DSL2025/blob/main/VerilogColab1/Slide88.PNG?raw=1)"
      ],
      "metadata": {
        "id": "BdUz5n2PuZTP"
      }
    },
    {
      "cell_type": "markdown",
      "source": [
        "![](https://github.com/pe8sutd/DSL2025/blob/main/VerilogColab1/Slide89.PNG?raw=1)"
      ],
      "metadata": {
        "id": "cZD6t8p3ufLZ"
      }
    },
    {
      "cell_type": "markdown",
      "source": [
        "## Multiplexor"
      ],
      "metadata": {
        "id": "rQ1yI8qcPuGx"
      }
    },
    {
      "cell_type": "markdown",
      "source": [
        "![](https://github.com/pe8sutd/DSL2025/blob/main/VerilogColab1/Slide90.PNG?raw=1)"
      ],
      "metadata": {
        "id": "OgQQm9meuhm3"
      }
    },
    {
      "cell_type": "markdown",
      "source": [
        "![](https://github.com/pe8sutd/DSL2025/blob/main/VerilogColab1/Slide91.PNG?raw=1)"
      ],
      "metadata": {
        "id": "YL4RXUOGuk6n"
      }
    },
    {
      "cell_type": "markdown",
      "source": [
        "![](https://github.com/pe8sutd/DSL2025/blob/main/VerilogColab1/Slide92.PNG?raw=1)"
      ],
      "metadata": {
        "id": "FRnDKDquunZv"
      }
    },
    {
      "cell_type": "markdown",
      "source": [
        "## Decoder"
      ],
      "metadata": {
        "id": "8RZHYs0OPzXw"
      }
    },
    {
      "cell_type": "markdown",
      "source": [
        "![](https://github.com/pe8sutd/DSL2025/blob/main/VerilogColab1/Slide93.PNG?raw=1)"
      ],
      "metadata": {
        "id": "paVc45Lcuq6f"
      }
    },
    {
      "cell_type": "markdown",
      "source": [
        "![](https://github.com/pe8sutd/DSL2025/blob/main/VerilogColab1/Slide94.PNG?raw=1)"
      ],
      "metadata": {
        "id": "m-D-yKlgutxP"
      }
    },
    {
      "cell_type": "markdown",
      "source": [
        "![](https://github.com/pe8sutd/DSL2025/blob/main/VerilogColab1/Slide95.PNG?raw=1)"
      ],
      "metadata": {
        "id": "SFbsxU8kuwR3"
      }
    },
    {
      "cell_type": "markdown",
      "source": [
        "![](https://github.com/pe8sutd/DSL2025/blob/main/VerilogColab1/Slide96.PNG?raw=1)"
      ],
      "metadata": {
        "id": "WpTa83Myu0I_"
      }
    },
    {
      "cell_type": "markdown",
      "source": [
        "## Synchronous"
      ],
      "metadata": {
        "id": "I-9AcbkkP4Zg"
      }
    },
    {
      "cell_type": "markdown",
      "source": [
        "![](https://github.com/pe8sutd/DSL2025/blob/main/VerilogColab1/Slide97.PNG?raw=1)"
      ],
      "metadata": {
        "id": "gAJdakSFu3HH"
      }
    },
    {
      "cell_type": "markdown",
      "source": [
        "![](https://github.com/pe8sutd/DSL2025/blob/main/VerilogColab1/Slide98.PNG?raw=1)"
      ],
      "metadata": {
        "id": "S_EracUiu5xv"
      }
    },
    {
      "cell_type": "markdown",
      "source": [
        "![](https://github.com/pe8sutd/DSL2025/blob/main/VerilogColab1/Slide99.PNG?raw=1)"
      ],
      "metadata": {
        "id": "WCyMlEWku76P"
      }
    },
    {
      "cell_type": "markdown",
      "source": [
        "![](https://github.com/pe8sutd/DSL2025/blob/main/VerilogColab2/Slide100.PNG?raw=1)"
      ],
      "metadata": {
        "id": "2JzRV_Ocu-NP"
      }
    },
    {
      "cell_type": "markdown",
      "source": [
        "![](https://github.com/pe8sutd/DSL2025/blob/main/VerilogColab2/Slide101.PNG?raw=1)"
      ],
      "metadata": {
        "id": "QcDHfNKovVEv"
      }
    },
    {
      "cell_type": "markdown",
      "source": [
        "![](https://github.com/pe8sutd/DSL2025/blob/main/VerilogColab2/Slide102.PNG?raw=1)"
      ],
      "metadata": {
        "id": "vutKcDGrvU6P"
      }
    },
    {
      "cell_type": "markdown",
      "source": [
        "![](https://github.com/pe8sutd/DSL2025/blob/main/VerilogColab2/Slide102.PNG?raw=1)"
      ],
      "metadata": {
        "id": "hKtLaiP0vUu3"
      }
    },
    {
      "cell_type": "markdown",
      "source": [
        "![](https://github.com/pe8sutd/DSL2025/blob/main/VerilogColab2/Slide103.PNG?raw=1)"
      ],
      "metadata": {
        "id": "9JVLkZfJvUmn"
      }
    },
    {
      "cell_type": "markdown",
      "source": [
        "![](https://github.com/pe8sutd/DSL2025/blob/main/VerilogColab2/Slide104.PNG?raw=1)"
      ],
      "metadata": {
        "id": "hztneRsmvUeo"
      }
    },
    {
      "cell_type": "markdown",
      "source": [
        "![](https://github.com/pe8sutd/DSL2025/blob/main/VerilogColab2/Slide105.PNG?raw=1)"
      ],
      "metadata": {
        "id": "hlSryUmqvzGe"
      }
    },
    {
      "cell_type": "markdown",
      "source": [
        "## Module Hierarchy"
      ],
      "metadata": {
        "id": "aa0G29RLQAe5"
      }
    },
    {
      "cell_type": "markdown",
      "source": [
        "![](https://github.com/pe8sutd/DSL2025/blob/main/VerilogColab2/Slide106.PNG?raw=1)"
      ],
      "metadata": {
        "id": "VkhZ0I3TvzCI"
      }
    },
    {
      "cell_type": "markdown",
      "source": [
        "![](https://github.com/pe8sutd/DSL2025/blob/main/VerilogColab2/Slide107.PNG?raw=1)"
      ],
      "metadata": {
        "id": "36G_b0AGvy-Q"
      }
    },
    {
      "cell_type": "markdown",
      "source": [
        "![](https://github.com/pe8sutd/DSL2025/blob/main/VerilogColab2/Slide108.PNG?raw=1)"
      ],
      "metadata": {
        "id": "QVV1UTmEvy6h"
      }
    },
    {
      "cell_type": "markdown",
      "source": [
        "![](https://github.com/pe8sutd/DSL2025/blob/main/VerilogColab2/Slide109.PNG?raw=1)"
      ],
      "metadata": {
        "id": "uF9RdNNrvy2p"
      }
    },
    {
      "cell_type": "markdown",
      "source": [
        "![](https://github.com/pe8sutd/DSL2025/blob/main/VerilogColab2/Slide110.PNG?raw=1)"
      ],
      "metadata": {
        "id": "nB1YZcjQvyy2"
      }
    },
    {
      "cell_type": "markdown",
      "source": [
        "![](https://github.com/pe8sutd/DSL2025/blob/main/VerilogColab2/Slide111.PNG?raw=1)"
      ],
      "metadata": {
        "id": "UfH4PA_nvytZ"
      }
    },
    {
      "cell_type": "markdown",
      "source": [
        "![](https://github.com/pe8sutd/DSL2025/blob/main/VerilogColab2/Slide112.PNG?raw=1)"
      ],
      "metadata": {
        "id": "evb9NfGTvyp0"
      }
    },
    {
      "cell_type": "markdown",
      "source": [
        "## Synthesis and Optimization"
      ],
      "metadata": {
        "id": "ojLTzO-bQGZh"
      }
    },
    {
      "cell_type": "markdown",
      "source": [
        "![](https://github.com/pe8sutd/DSL2025/blob/main/VerilogColab2/Slide113.PNG?raw=1)"
      ],
      "metadata": {
        "id": "IjELAXYbvymc"
      }
    },
    {
      "cell_type": "markdown",
      "source": [
        "![](https://github.com/pe8sutd/DSL2025/blob/main/VerilogColab2/Slide114.PNG?raw=1)"
      ],
      "metadata": {
        "id": "26Qilc7Avyi4"
      }
    },
    {
      "cell_type": "markdown",
      "source": [
        "![](https://github.com/pe8sutd/DSL2025/blob/main/VerilogColab2/Slide115.PNG?raw=1)"
      ],
      "metadata": {
        "id": "FVa-a1Mgvyfg"
      }
    },
    {
      "cell_type": "markdown",
      "source": [
        "![](https://github.com/pe8sutd/DSL2025/blob/main/VerilogColab2/Slide116.PNG?raw=1)"
      ],
      "metadata": {
        "id": "uU7z7TODvybb"
      }
    },
    {
      "cell_type": "markdown",
      "source": [
        "![](https://github.com/pe8sutd/DSL2025/blob/main/VerilogColab2/Slide117.PNG?raw=1)"
      ],
      "metadata": {
        "id": "lKEVtgzovyXq"
      }
    },
    {
      "cell_type": "markdown",
      "source": [
        "![](https://github.com/pe8sutd/DSL2025/blob/main/VerilogColab2/Slide118.PNG?raw=1)"
      ],
      "metadata": {
        "id": "iCRUfxnNvyTu"
      }
    },
    {
      "cell_type": "markdown",
      "source": [
        "![](https://github.com/pe8sutd/DSL2025/blob/main/VerilogColab2/Slide119.PNG?raw=1)"
      ],
      "metadata": {
        "id": "qLyeixO_vyPQ"
      }
    },
    {
      "cell_type": "markdown",
      "source": [
        "![](https://github.com/pe8sutd/DSL2025/blob/main/VerilogColab2/Slide120.PNG?raw=1)"
      ],
      "metadata": {
        "id": "ujSQovonwj-I"
      }
    },
    {
      "cell_type": "markdown",
      "source": [
        "## FAQ"
      ],
      "metadata": {
        "id": "UpzzBXO4QOp4"
      }
    },
    {
      "cell_type": "markdown",
      "source": [
        "![](https://github.com/pe8sutd/DSL2025/blob/main/VerilogColab2/Slide121.PNG?raw=1)"
      ],
      "metadata": {
        "id": "ZtmpwLkDwj6T"
      }
    },
    {
      "cell_type": "markdown",
      "source": [
        "![](https://github.com/pe8sutd/DSL2025/blob/main/VerilogColab2/Slide122.PNG?raw=1)"
      ],
      "metadata": {
        "id": "Mv5NhrjVwj2O"
      }
    },
    {
      "cell_type": "markdown",
      "source": [
        "## Blocking - Nonblocking"
      ],
      "metadata": {
        "id": "MeTuxG2yQttd"
      }
    },
    {
      "cell_type": "markdown",
      "source": [
        "![](https://github.com/pe8sutd/DSL2025/blob/main/VerilogColab2/Slide123.PNG?raw=1)"
      ],
      "metadata": {
        "id": "-tsQEamkwjyV"
      }
    },
    {
      "cell_type": "markdown",
      "source": [
        "![](https://github.com/pe8sutd/DSL2025/blob/main/VerilogColab2/Slide124.PNG?raw=1)"
      ],
      "metadata": {
        "id": "WwWx5TiAwjuL"
      }
    },
    {
      "cell_type": "markdown",
      "source": [
        "![](https://github.com/pe8sutd/DSL2025/blob/main/VerilogColab2/Slide125.PNG?raw=1)"
      ],
      "metadata": {
        "id": "_jlC6I_8wjqR"
      }
    },
    {
      "cell_type": "markdown",
      "source": [
        "![](https://github.com/pe8sutd/DSL2025/blob/main/VerilogColab2/Slide126.PNG?raw=1)"
      ],
      "metadata": {
        "id": "qHpZEEHRwjmW"
      }
    },
    {
      "cell_type": "markdown",
      "source": [
        "![](https://github.com/pe8sutd/DSL2025/blob/main/VerilogColab2/Slide127.PNG?raw=1)"
      ],
      "metadata": {
        "id": "uNBQNYBywjie"
      }
    },
    {
      "cell_type": "markdown",
      "source": [
        "![](https://github.com/pe8sutd/DSL2025/blob/main/VerilogColab2/Slide128.PNG?raw=1)"
      ],
      "metadata": {
        "id": "daQS2kK-wjei"
      }
    },
    {
      "cell_type": "markdown",
      "source": [
        "![](https://github.com/pe8sutd/DSL2025/blob/main/VerilogColab2/Slide129.PNG?raw=1)"
      ],
      "metadata": {
        "id": "NM7zDlDGwjaL"
      }
    },
    {
      "cell_type": "markdown",
      "source": [
        "![](https://github.com/pe8sutd/DSL2025/blob/main/VerilogColab2/Slide130.PNG?raw=1)"
      ],
      "metadata": {
        "id": "Z7ACrxcKwjVu"
      }
    },
    {
      "cell_type": "markdown",
      "source": [
        "![](https://github.com/pe8sutd/DSL2025/blob/main/VerilogColab2/Slide131.PNG?raw=1)"
      ],
      "metadata": {
        "id": "b-dwOVtHwjQ5"
      }
    },
    {
      "cell_type": "markdown",
      "source": [
        "![](https://github.com/pe8sutd/DSL2025/blob/main/VerilogColab2/Slide132.PNG?raw=1)"
      ],
      "metadata": {
        "id": "A3KbpC27wjMl"
      }
    },
    {
      "cell_type": "markdown",
      "source": [
        "![](https://github.com/pe8sutd/DSL2025/blob/main/VerilogColab2/Slide133.PNG?raw=1)"
      ],
      "metadata": {
        "id": "7MCHYgJ5wjHZ"
      }
    },
    {
      "cell_type": "markdown",
      "source": [
        "![](https://github.com/pe8sutd/DSL2025/blob/main/VerilogColab2/Slide134.PNG?raw=1)"
      ],
      "metadata": {
        "id": "lVWERBzrwjCu"
      }
    },
    {
      "cell_type": "markdown",
      "source": [
        "## Continuous Assignments"
      ],
      "metadata": {
        "id": "_HJq55nMQWWw"
      }
    },
    {
      "cell_type": "markdown",
      "source": [
        "![](https://github.com/pe8sutd/DSL2025/blob/main/VerilogColab2/Slide135.PNG?raw=1)"
      ],
      "metadata": {
        "id": "ownhtqLhwi-v"
      }
    },
    {
      "cell_type": "markdown",
      "source": [
        "## Procedure Assignments"
      ],
      "metadata": {
        "id": "vrcdzhFwQctw"
      }
    },
    {
      "cell_type": "markdown",
      "source": [
        "![](https://github.com/pe8sutd/DSL2025/blob/main/VerilogColab2/Slide136.PNG?raw=1)"
      ],
      "metadata": {
        "id": "aZ_ayOSSwi60"
      }
    },
    {
      "cell_type": "markdown",
      "source": [
        "![](https://github.com/pe8sutd/DSL2025/blob/main/VerilogColab2/Slide137.PNG?raw=1)"
      ],
      "metadata": {
        "id": "v0_MemMYwi2-"
      }
    },
    {
      "cell_type": "markdown",
      "source": [
        "## Verilog VCD Dump"
      ],
      "metadata": {
        "id": "Mrv5x28WQhUb"
      }
    },
    {
      "cell_type": "markdown",
      "source": [
        "![](https://github.com/pe8sutd/DSL2025/blob/main/VerilogColab2/Slide138.PNG?raw=1)"
      ],
      "metadata": {
        "id": "dv8yWy_Ywiy1"
      }
    },
    {
      "cell_type": "markdown",
      "source": [
        "![](https://github.com/pe8sutd/DSL2025/blob/main/VerilogColab2/Slide139.PNG?raw=1)"
      ],
      "metadata": {
        "id": "2ZGED-OWwiuz"
      }
    },
    {
      "cell_type": "markdown",
      "source": [
        "![](https://github.com/pe8sutd/DSL2025/blob/main/VerilogColab2/Slide140.PNG?raw=1)"
      ],
      "metadata": {
        "id": "vD6X-9XIwirE"
      }
    },
    {
      "cell_type": "markdown",
      "source": [
        "![](https://github.com/pe8sutd/DSL2025/blob/main/VerilogColab2/Slide141.PNG?raw=1)"
      ],
      "metadata": {
        "id": "VI3NAd_Fwimb"
      }
    },
    {
      "cell_type": "markdown",
      "source": [
        "![](https://github.com/pe8sutd/DSL2025/blob/main/VerilogColab2/Slide142.PNG?raw=1)"
      ],
      "metadata": {
        "id": "r6F7f-1nwig3"
      }
    },
    {
      "cell_type": "markdown",
      "source": [
        "![](https://github.com/pe8sutd/DSL2025/blob/main/VerilogColab2/Slide143.PNG?raw=1)"
      ],
      "metadata": {
        "id": "fCDBRTgUxioE"
      }
    },
    {
      "cell_type": "markdown",
      "source": [
        "![](https://github.com/pe8sutd/DSL2025/blob/main/VerilogColab2/Slide144.PNG?raw=1)"
      ],
      "metadata": {
        "id": "ug-5uq4vxiV5"
      }
    }
  ]
}
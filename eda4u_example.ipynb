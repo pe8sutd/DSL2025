{
  "nbformat": 4,
  "nbformat_minor": 0,
  "metadata": {
    "colab": {
      "provenance": [],
      "include_colab_link": true
    },
    "kernelspec": {
      "name": "python3",
      "display_name": "Python 3"
    },
    "language_info": {
      "name": "python"
    }
  },
  "cells": [
    {
      "cell_type": "markdown",
      "metadata": {
        "id": "view-in-github",
        "colab_type": "text"
      },
      "source": [
        "<a href=\"https://colab.research.google.com/github/pe8sutd/DSL2025/blob/main/eda4u_example.ipynb\" target=\"_parent\"><img src=\"https://colab.research.google.com/assets/colab-badge.svg\" alt=\"Open In Colab\"/></a>"
      ]
    },
    {
      "cell_type": "code",
      "execution_count": null,
      "metadata": {
        "id": "AL14g-kIPSoC"
      },
      "outputs": [],
      "source": [
        "!pip install git+https://github.com/pe8sutd/eda4u &> /dev/null\n",
        "!git clone https://github.com/pe8sutd/eda4u &> /dev/null\n",
        "%load_ext plugin"
      ]
    },
    {
      "cell_type": "markdown",
      "source": [
        "You need to run the above setup everytime you login to the Colab, if you want to run this online EDA."
      ],
      "metadata": {
        "id": "cWVvU2nMPhcg"
      }
    },
    {
      "cell_type": "markdown",
      "source": [
        "### %%print_verilog\n",
        "\n",
        "Using %%print_verilog, the schematic of the Verilog HDL design can be generated for reference."
      ],
      "metadata": {
        "id": "eY3o5ZmsPyEI"
      }
    },
    {
      "cell_type": "code",
      "source": [
        "%%print_verilog\n",
        "\n",
        "//-----//\n",
        "module c_fa(\n",
        "    output cout,\n",
        "    output sum,\n",
        "    input a,\n",
        "    input b,\n",
        "    input cin);\n",
        "\n",
        "  assign cout = (a&b)|(a&cin)|(b&cin);\n",
        "  assign sum = a^b^cin;\n",
        "\n",
        "endmodule\n",
        "//-----//"
      ],
      "metadata": {
        "colab": {
          "base_uri": "https://localhost:8080/",
          "height": 299
        },
        "id": "dkTco0imQFM4",
        "outputId": "07655f36-2911-46da-b0d9-a3810f5aeb49"
      },
      "execution_count": null,
      "outputs": [
        {
          "output_type": "stream",
          "name": "stdout",
          "text": [
            "Installing. Please wait... done!\n"
          ]
        },
        {
          "output_type": "display_data",
          "data": {
            "text/plain": [
              "<IPython.core.display.SVG object>"
            ],
            "image/svg+xml": "<svg xmlns=\"http://www.w3.org/2000/svg\" xmlns:xlink=\"http://www.w3.org/1999/xlink\" xmlns:s=\"https://github.com/nturley/netlistsvg\" width=\"325\" height=\"261\"><style>svg {\n  stroke:#000;\n  fill:none;\n}\ntext {\n  fill:#000;\n  stroke:none;\n  font-size:10px;\n  font-weight: bold;\n  font-family: &quot;Courier New&quot;, monospace;\n}\nline {\n    stroke-linecap: round;\n}\n.nodelabel {\n  text-anchor: middle;\n}\n.inputPortLabel {\n  text-anchor: end;\n}\n.splitjoinBody {\n  fill:#000;\n}</style><g s:type=\"and\" transform=\"translate(82,12)\" s:width=\"30\" s:height=\"25\" id=\"cell_$and$/content/code.v:10$1\"><s:alias val=\"$and\"/><s:alias val=\"$logic_and\"/><s:alias val=\"$_AND_\"/><s:alias val=\"$reduce_and\"/><path d=\"M0,0 L0,25 L15,25 A15 12.5 0 0 0 15,0 Z\" class=\"cell_$and$/content/code.v:10$1\"/><g s:x=\"0\" s:y=\"5\" s:pid=\"A\"/><g s:x=\"0\" s:y=\"20\" s:pid=\"B\"/><g s:x=\"30\" s:y=\"12.5\" s:pid=\"Y\"/></g><g s:type=\"and\" transform=\"translate(82,72)\" s:width=\"30\" s:height=\"25\" id=\"cell_$and$/content/code.v:10$2\"><s:alias val=\"$and\"/><s:alias val=\"$logic_and\"/><s:alias val=\"$_AND_\"/><s:alias val=\"$reduce_and\"/><path d=\"M0,0 L0,25 L15,25 A15 12.5 0 0 0 15,0 Z\" class=\"cell_$and$/content/code.v:10$2\"/><g s:x=\"0\" s:y=\"5\" s:pid=\"A\"/><g s:x=\"0\" s:y=\"20\" s:pid=\"B\"/><g s:x=\"30\" s:y=\"12.5\" s:pid=\"Y\"/></g><g s:type=\"and\" transform=\"translate(148,137)\" s:width=\"30\" s:height=\"25\" id=\"cell_$and$/content/code.v:10$4\"><s:alias val=\"$and\"/><s:alias val=\"$logic_and\"/><s:alias val=\"$_AND_\"/><s:alias val=\"$reduce_and\"/><path d=\"M0,0 L0,25 L15,25 A15 12.5 0 0 0 15,0 Z\" class=\"cell_$and$/content/code.v:10$4\"/><g s:x=\"0\" s:y=\"5\" s:pid=\"A\"/><g s:x=\"0\" s:y=\"20\" s:pid=\"B\"/><g s:x=\"30\" s:y=\"12.5\" s:pid=\"Y\"/></g><g s:type=\"or\" transform=\"translate(148,19.5)\" s:width=\"30\" s:height=\"25\" id=\"cell_$or$/content/code.v:10$3\"><s:alias val=\"$or\"/><s:alias val=\"$logic_or\"/><s:alias val=\"$_OR_\"/><s:alias val=\"$reduce_or\"/><s:alias val=\"$reduce_bool\"/><path d=\"M0,0 A30 25 0 0 1 0,25 A30 25 0 0 0 30,12.5 A30 25 0 0 0 0,0\" class=\"cell_$or$/content/code.v:10$3\"/><g s:x=\"2\" s:y=\"5\" s:pid=\"A\"/><g s:x=\"2\" s:y=\"20\" s:pid=\"B\"/><g s:x=\"30\" s:y=\"12.5\" s:pid=\"Y\"/></g><g s:type=\"or\" transform=\"translate(216,27)\" s:width=\"30\" s:height=\"25\" id=\"cell_$or$/content/code.v:10$5\"><s:alias val=\"$or\"/><s:alias val=\"$logic_or\"/><s:alias val=\"$_OR_\"/><s:alias val=\"$reduce_or\"/><s:alias val=\"$reduce_bool\"/><path d=\"M0,0 A30 25 0 0 1 0,25 A30 25 0 0 0 30,12.5 A30 25 0 0 0 0,0\" class=\"cell_$or$/content/code.v:10$5\"/><g s:x=\"2\" s:y=\"5\" s:pid=\"A\"/><g s:x=\"2\" s:y=\"20\" s:pid=\"B\"/><g s:x=\"30\" s:y=\"12.5\" s:pid=\"Y\"/></g><g s:type=\"reduce_xor\" transform=\"translate(147,213)\" s:width=\"33\" s:height=\"25\" id=\"cell_$xor$/content/code.v:11$6\"><s:alias val=\"$xor\"/><s:alias val=\"$reduce_xor\"/><s:alias val=\"$_XOR_\"/><path d=\"M3,0 A30 25 0 0 1 3,25 A30 25 0 0 0 33,12.5 A30 25 0 0 0 3,0\" class=\"cell_$xor$/content/code.v:11$6\"/><path d=\"M0,0 A30 25 0 0 1 0,25\" class=\"cell_$xor$/content/code.v:11$6\"/><g s:x=\"2\" s:y=\"5\" s:pid=\"A\"/><g s:x=\"2\" s:y=\"20\" s:pid=\"B\"/><g s:x=\"33\" s:y=\"12.5\" s:pid=\"Y\"/></g><g s:type=\"reduce_xor\" transform=\"translate(215,220.5)\" s:width=\"33\" s:height=\"25\" id=\"cell_$xor$/content/code.v:11$7\"><s:alias val=\"$xor\"/><s:alias val=\"$reduce_xor\"/><s:alias val=\"$_XOR_\"/><path d=\"M3,0 A30 25 0 0 1 3,25 A30 25 0 0 0 33,12.5 A30 25 0 0 0 3,0\" class=\"cell_$xor$/content/code.v:11$7\"/><path d=\"M0,0 A30 25 0 0 1 0,25\" class=\"cell_$xor$/content/code.v:11$7\"/><g s:x=\"2\" s:y=\"5\" s:pid=\"A\"/><g s:x=\"2\" s:y=\"20\" s:pid=\"B\"/><g s:x=\"33\" s:y=\"12.5\" s:pid=\"Y\"/></g><g s:type=\"outputExt\" transform=\"translate(283,29.5)\" s:width=\"30\" s:height=\"20\" id=\"cell_cout\"><text x=\"15\" y=\"-4\" class=\"nodelabel cell_cout\" s:attribute=\"ref\">cout</text><s:alias val=\"$_outputExt_\"/><path d=\"M30,0 L30,20 L15,20 L0,10 L15,0 Z\" class=\"cell_cout\"/><g s:x=\"0\" s:y=\"10\" s:pid=\"A\"/></g><g s:type=\"outputExt\" transform=\"translate(283,223)\" s:width=\"30\" s:height=\"20\" id=\"cell_sum\"><text x=\"15\" y=\"-4\" class=\"nodelabel cell_sum\" s:attribute=\"ref\">sum</text><s:alias val=\"$_outputExt_\"/><path d=\"M30,0 L30,20 L15,20 L0,10 L15,0 Z\" class=\"cell_sum\"/><g s:x=\"0\" s:y=\"10\" s:pid=\"A\"/></g><g s:type=\"inputExt\" transform=\"translate(12,67)\" s:width=\"30\" s:height=\"20\" id=\"cell_a\"><text x=\"15\" y=\"-4\" class=\"nodelabel cell_a\" s:attribute=\"ref\">a</text><s:alias val=\"$_inputExt_\"/><path d=\"M0,0 L0,20 L15,20 L30,10 L15,0 Z\" class=\"cell_a\"/><g s:x=\"30\" s:y=\"10\" s:pid=\"Y\"/></g><g s:type=\"inputExt\" transform=\"translate(12,132)\" s:width=\"30\" s:height=\"20\" id=\"cell_b\"><text x=\"15\" y=\"-4\" class=\"nodelabel cell_b\" s:attribute=\"ref\">b</text><s:alias val=\"$_inputExt_\"/><path d=\"M0,0 L0,20 L15,20 L30,10 L15,0 Z\" class=\"cell_b\"/><g s:x=\"30\" s:y=\"10\" s:pid=\"Y\"/></g><g s:type=\"inputExt\" transform=\"translate(12,197)\" s:width=\"30\" s:height=\"20\" id=\"cell_cin\"><text x=\"15\" y=\"-4\" class=\"nodelabel cell_cin\" s:attribute=\"ref\">cin</text><s:alias val=\"$_inputExt_\"/><path d=\"M0,0 L0,20 L15,20 L30,10 L15,0 Z\" class=\"cell_cin\"/><g s:x=\"30\" s:y=\"10\" s:pid=\"Y\"/></g><line x1=\"42\" x2=\"72\" y1=\"77\" y2=\"77\" class=\"net_4 width_1\" style=\"stroke-width: 1\"/><line x1=\"72\" x2=\"72\" y1=\"77\" y2=\"17\" class=\"net_4 width_1\" style=\"stroke-width: 1\"/><circle cx=\"72\" cy=\"77\" r=\"2\" style=\"fill:#000\" class=\"net_4 width_1\"/><line x1=\"72\" x2=\"82\" y1=\"17\" y2=\"17\" class=\"net_4 width_1\" style=\"stroke-width: 1\"/><line x1=\"42\" x2=\"82\" y1=\"77\" y2=\"77\" class=\"net_4 width_1\" style=\"stroke-width: 1\"/><line x1=\"42\" x2=\"72\" y1=\"77\" y2=\"77\" class=\"net_4 width_1\" style=\"stroke-width: 1\"/><line x1=\"72\" x2=\"72\" y1=\"77\" y2=\"218\" class=\"net_4 width_1\" style=\"stroke-width: 1\"/><line x1=\"72\" x2=\"149\" y1=\"218\" y2=\"218\" class=\"net_4 width_1\" style=\"stroke-width: 1\"/><line x1=\"42\" x2=\"62\" y1=\"142\" y2=\"142\" class=\"net_5 width_1\" style=\"stroke-width: 1\"/><line x1=\"62\" x2=\"62\" y1=\"142\" y2=\"32\" class=\"net_5 width_1\" style=\"stroke-width: 1\"/><circle cx=\"62\" cy=\"142\" r=\"2\" style=\"fill:#000\" class=\"net_5 width_1\"/><line x1=\"62\" x2=\"82\" y1=\"32\" y2=\"32\" class=\"net_5 width_1\" style=\"stroke-width: 1\"/><line x1=\"42\" x2=\"148\" y1=\"142\" y2=\"142\" class=\"net_5 width_1\" style=\"stroke-width: 1\"/><line x1=\"42\" x2=\"62\" y1=\"142\" y2=\"142\" class=\"net_5 width_1\" style=\"stroke-width: 1\"/><line x1=\"62\" x2=\"62\" y1=\"142\" y2=\"233\" class=\"net_5 width_1\" style=\"stroke-width: 1\"/><line x1=\"62\" x2=\"149\" y1=\"233\" y2=\"233\" class=\"net_5 width_1\" style=\"stroke-width: 1\"/><line x1=\"42\" x2=\"52\" y1=\"207\" y2=\"207\" class=\"net_6 width_1\" style=\"stroke-width: 1\"/><line x1=\"52\" x2=\"52\" y1=\"207\" y2=\"92\" class=\"net_6 width_1\" style=\"stroke-width: 1\"/><circle cx=\"52\" cy=\"207\" r=\"2\" style=\"fill:#000\" class=\"net_6 width_1\"/><line x1=\"52\" x2=\"82\" y1=\"92\" y2=\"92\" class=\"net_6 width_1\" style=\"stroke-width: 1\"/><line x1=\"42\" x2=\"122\" y1=\"207\" y2=\"207\" class=\"net_6 width_1\" style=\"stroke-width: 1\"/><line x1=\"122\" x2=\"122\" y1=\"207\" y2=\"157\" class=\"net_6 width_1\" style=\"stroke-width: 1\"/><line x1=\"122\" x2=\"148\" y1=\"157\" y2=\"157\" class=\"net_6 width_1\" style=\"stroke-width: 1\"/><line x1=\"42\" x2=\"52\" y1=\"207\" y2=\"207\" class=\"net_6 width_1\" style=\"stroke-width: 1\"/><line x1=\"52\" x2=\"52\" y1=\"207\" y2=\"248\" class=\"net_6 width_1\" style=\"stroke-width: 1\"/><line x1=\"52\" x2=\"190\" y1=\"248\" y2=\"248\" class=\"net_6 width_1\" style=\"stroke-width: 1\"/><line x1=\"190\" x2=\"190\" y1=\"248\" y2=\"240.5\" class=\"net_6 width_1\" style=\"stroke-width: 1\"/><line x1=\"190\" x2=\"217\" y1=\"240.5\" y2=\"240.5\" class=\"net_6 width_1\" style=\"stroke-width: 1\"/><line x1=\"112\" x2=\"150\" y1=\"24.5\" y2=\"24.5\" class=\"net_7 width_1\" style=\"stroke-width: 1\"/><line x1=\"112\" x2=\"122\" y1=\"84.5\" y2=\"84.5\" class=\"net_8 width_1\" style=\"stroke-width: 1\"/><line x1=\"122\" x2=\"122\" y1=\"84.5\" y2=\"39.5\" class=\"net_8 width_1\" style=\"stroke-width: 1\"/><line x1=\"122\" x2=\"150\" y1=\"39.5\" y2=\"39.5\" class=\"net_8 width_1\" style=\"stroke-width: 1\"/><line x1=\"178\" x2=\"218\" y1=\"32\" y2=\"32\" class=\"net_10 width_1\" style=\"stroke-width: 1\"/><line x1=\"178\" x2=\"190\" y1=\"149.5\" y2=\"149.5\" class=\"net_9 width_1\" style=\"stroke-width: 1\"/><line x1=\"190\" x2=\"190\" y1=\"149.5\" y2=\"47\" class=\"net_9 width_1\" style=\"stroke-width: 1\"/><line x1=\"190\" x2=\"218\" y1=\"47\" y2=\"47\" class=\"net_9 width_1\" style=\"stroke-width: 1\"/><line x1=\"180\" x2=\"217\" y1=\"225.5\" y2=\"225.5\" class=\"net_11 width_1\" style=\"stroke-width: 1\"/><line x1=\"246\" x2=\"283\" y1=\"39.5\" y2=\"39.5\" class=\"net_2 width_1\" style=\"stroke-width: 1\"/><line x1=\"248\" x2=\"283\" y1=\"233\" y2=\"233\" class=\"net_3 width_1\" style=\"stroke-width: 1\"/></svg>"
          },
          "metadata": {}
        }
      ]
    },
    {
      "cell_type": "markdown",
      "source": [
        "## %%verilog\n",
        "\n",
        "Most of the time, only need to use %%verilog to simulate the Verilog module, with Testbench.\n",
        "The modules, and testbench must be included in the same Cell. The above Cell that include the adder module is not seen in the below Cell, thus the adder module is again included in the below cell.\n",
        "\n",
        "If you include testbench:\n",
        "1. You should only use %%verilog, but not %%print_verilog. Otherwise there will be syntax error;\n",
        "1. You must include $finish; in the testbench. Otherwise, the Cell will be runing the simulation and non-stop;"
      ],
      "metadata": {
        "id": "zyTr99WNQWHx"
      }
    },
    {
      "cell_type": "code",
      "source": [
        "%%verilog\n",
        "\n",
        "//carry ripple adder\n",
        "module c_cra (\n",
        "    output cout,\n",
        "    output [3:0] sum,\n",
        "    input [3:0] a, b,\n",
        "    input cin\n",
        "  );\n",
        "\n",
        "  wire [3:0] c;\n",
        "  assign c[0] = cin;\n",
        "\n",
        "  c_fa fa3(.cout(cout), .sum(sum[3]), .a(a[3]), .b(b[3]), .cin(c[3]) );\n",
        "  c_fa fa2(.cout(c[3]), .sum(sum[2]), .a(a[2]), .b(b[2]), .cin(c[2]) );\n",
        "  c_fa fa1(.cout(c[2]), .sum(sum[1]), .a(a[1]), .b(b[1]), .cin(c[1]) );\n",
        "  c_fa fa0(.cout(c[1]), .sum(sum[0]), .a(a[0]), .b(b[0]), .cin(c[0]) );\n",
        "\n",
        "endmodule\n",
        "//-----//\n",
        "\n",
        "//-----//\n",
        "module c_fa(\n",
        "    output cout,\n",
        "    output sum,\n",
        "    input a,\n",
        "    input b,\n",
        "    input cin);\n",
        "\n",
        "  assign cout = (a&b)|(a&cin)|(b&cin);\n",
        "  assign sum = a^b^cin;\n",
        "\n",
        "endmodule\n",
        "//-----//\n",
        "\n",
        "//-----//\n",
        "module c_cra_tb();\n",
        "    wire cout;\n",
        "    wire [3:0] sum;\n",
        "    reg [3:0] a, b;\n",
        "    reg cin;\n",
        "\n",
        "    c_cra dut (.cout(cout), .sum(sum), .a(a), .b(b), .cin(cin));\n",
        "\n",
        "    reg [4:0] q;\n",
        "    always @(*) begin\n",
        "        q[4:0] = {cout,sum[3:0]};\n",
        "    end\n",
        "\n",
        "    // Test stimulus\n",
        "    initial begin\n",
        "        $dumpfile(\"c_cra.vcd\");\n",
        "        $dumpvars;\n",
        "\n",
        "        a = 4'b0000; b = 4'b0000; cin = 1'b0;\n",
        "        // Test case 1: cin = 0, sum of a and b\n",
        "        #1 a = 4'b1111; b = 4'b0001; cin = 1'b0;\n",
        "        #1;\n",
        "        if (q !== 5'b10000) $display(\"Test case 1 failed! q = %b\", q);\n",
        "        else $display(\"Test case 1 passed.\");\n",
        "\n",
        "        // Test case 2: cin = 1, sum of a and b\n",
        "        #1 a = 4'b0111; b = 4'b0000; cin = 1'b1;\n",
        "        #1;\n",
        "        if (q !== 5'b01000) $display(\"Test case 2 failed! q = %b\", q);\n",
        "        else $display(\"Test case 2 passed.\");\n",
        "\n",
        "        // Test case 3: cin = 10, sum of a and b\n",
        "        #1 a = 4'b1111; b = 4'b1111; cin = 1'b1;\n",
        "        #1;\n",
        "        if (q !== 5'b11111) $display(\"Test case 3 failed! q = %b\", q);\n",
        "        else $display(\"Test case 3 passed.\");\n",
        "\n",
        "        // Test case 4: cin = 10, sum of a and b\n",
        "        #1 a = 4'b1111; b = 4'b1111; cin = 1'b0;\n",
        "        #1;\n",
        "        if (q !== 5'b11110) $display(\"Test case 4 failed! q = %b\", q);\n",
        "        else $display(\"Test case 3 passed.\");\n",
        "\n",
        "        //\n",
        "        #1 a = 4'b0000; b = 4'b0000; cin = 1'b0;\n",
        "\n",
        "        #1 $finish;\n",
        "\n",
        "        $dumpoff;\n",
        "    end\n",
        "\n",
        "endmodule\n"
      ],
      "metadata": {
        "colab": {
          "base_uri": "https://localhost:8080/"
        },
        "id": "zE3p6zoQ_mu2",
        "outputId": "cf664d3e-34c1-412e-c8a8-ab48ce66e19a"
      },
      "execution_count": null,
      "outputs": [
        {
          "output_type": "stream",
          "name": "stdout",
          "text": [
            "VCD info: dumpfile c_cra.vcd opened for output.\n",
            "Test case 1 passed.\n",
            "Test case 2 passed.\n",
            "Test case 3 passed.\n",
            "Test case 3 passed.\n",
            "\n"
          ]
        }
      ]
    },
    {
      "cell_type": "markdown",
      "source": [
        "## %%waveform\n",
        "\n",
        "You can choose to plot the waveform using %%waveform, where it will take the saved file from above Cell, c_cra.vcd, to plot the waveform. The file name must be specificed in the above Cell."
      ],
      "metadata": {
        "id": "J_bvXYcNR8IY"
      }
    },
    {
      "cell_type": "code",
      "source": [
        "%%waveform c_cra.vcd\n",
        "sign_list = ['c_cra_tb.q','c_cra_tb.a', 'c_cra_tb.b', 'c_cra_tb.cin']\n",
        "time_begin = 0\n",
        "time_end = 10\n",
        "base = 'dec' # bin, dec, dec2, hex, octal"
      ],
      "metadata": {
        "colab": {
          "base_uri": "https://localhost:8080/",
          "height": 445
        },
        "id": "Jlhj5m9NR1XZ",
        "outputId": "e6fede08-07f2-4f70-fa02-eb6880620d58"
      },
      "execution_count": null,
      "outputs": [
        {
          "output_type": "display_data",
          "data": {
            "text/plain": [
              "<Figure size 1100x500 with 1 Axes>"
            ],
            "image/png": "[encoded data removed]"
          },
          "metadata": {}
        }
      ]
    },
    {
      "cell_type": "code",
      "source": [],
      "metadata": {
        "id": "JxNQJO_izJNZ"
      },
      "execution_count": null,
      "outputs": []
    }
  ]
}